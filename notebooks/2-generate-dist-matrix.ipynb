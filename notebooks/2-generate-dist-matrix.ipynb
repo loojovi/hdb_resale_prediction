{
 "cells": [
  {
   "cell_type": "markdown",
   "id": "northern-receptor",
   "metadata": {},
   "source": [
    "## Generating distance matrix"
   ]
  },
  {
   "cell_type": "code",
   "execution_count": null,
   "id": "thermal-moment",
   "metadata": {},
   "outputs": [],
   "source": [
    "import pandas as pd\n",
    "import seaborn as sns\n",
    "import matplotlib.pyplot as plt\n",
    "import numpy as np\n",
    "\n",
    "sns.set(rc={'figure.figsize':(10,7)})"
   ]
  },
  {
   "cell_type": "code",
   "execution_count": null,
   "id": "tropical-appliance",
   "metadata": {},
   "outputs": [],
   "source": [
    "train = pd.read_csv('../data/raw/train.csv')\n",
    "test = pd.read_csv('../data/raw/test.csv')"
   ]
  },
  {
   "cell_type": "markdown",
   "id": "raising-destiny",
   "metadata": {},
   "source": [
    "## Distance metrics\n",
    "\n",
    "Create distance matrix for all tables since haversine is not cheap to run."
   ]
  },
  {
   "cell_type": "code",
   "execution_count": null,
   "id": "atomic-minnesota",
   "metadata": {},
   "outputs": [],
   "source": [
    "import numpy as np\n",
    "\n",
    "def haversine_np(lat1, lon1, lat2, lon2):\n",
    "    \"\"\"\n",
    "    https://stackoverflow.com/questions/27928/calculate-distance-between-two-latitude-longitude-points-haversine-formula\n",
    "    Calculate the great circle distance between two points\n",
    "    on the earth (specified in decimal degrees)\n",
    "\n",
    "    All args must be of equal length.    \n",
    "\n",
    "    \"\"\"\n",
    "    lon1, lat1, lon2, lat2 = map(np.radians, [lon1, lat1, lon2, lat2])\n",
    "\n",
    "    dlon = lon2 - lon1\n",
    "    dlat = lat2 - lat1\n",
    "\n",
    "    a = np.sin(dlat/2.0)**2 + np.cos(lat1) * np.cos(lat2) * np.sin(dlon/2.0)**2\n",
    "\n",
    "    c = 2 * np.arcsin(np.sqrt(a))\n",
    "    km = 6367 * c\n",
    "    return km\n"
   ]
  },
  {
   "cell_type": "code",
   "execution_count": null,
   "id": "simplified-company",
   "metadata": {},
   "outputs": [],
   "source": [
    "def count_n_nearest(df, row):\n",
    "    length = df.shape[0]\n",
    "    lat = [row['latitude'] for i in range(length)]\n",
    "    lng = [row['longitude'] for i in range(length)]\n",
    "    return haversine_np(list(df['lat']), list(df['lng']), lat, lng)"
   ]
  },
  {
   "cell_type": "markdown",
   "id": "after-material",
   "metadata": {},
   "source": [
    "### Sec Schools Distance Matrix"
   ]
  },
  {
   "cell_type": "code",
   "execution_count": null,
   "id": "korean-running",
   "metadata": {},
   "outputs": [],
   "source": [
    "ssch = pd.read_csv(\"../data/raw/sg-secondary-schools.csv\")"
   ]
  },
  {
   "cell_type": "code",
   "execution_count": null,
   "id": "thousand-monday",
   "metadata": {},
   "outputs": [],
   "source": [
    "overall = []\n",
    "for index, row in train[['latitude', 'longitude']].iterrows():\n",
    "    overall.append(count_n_nearest(ssch, row))\n",
    "matrix = pd.DataFrame.from_records(overall)\n",
    "matrix.to_csv(\"ssch-dist-matrix.csv\")"
   ]
  },
  {
   "cell_type": "code",
   "execution_count": null,
   "id": "extraordinary-following",
   "metadata": {},
   "outputs": [],
   "source": [
    "overall = []\n",
    "for index, row in test[['latitude', 'longitude']].iterrows():\n",
    "    overall.append(count_n_nearest(ssch, row))\n",
    "matrix = pd.DataFrame.from_records(overall)\n",
    "matrix.to_csv(\"test-ssch-dist-matrix.csv\")"
   ]
  },
  {
   "cell_type": "markdown",
   "id": "intimate-columbus",
   "metadata": {},
   "source": [
    "###  Pri Schools Distance Matrix"
   ]
  },
  {
   "cell_type": "code",
   "execution_count": null,
   "id": "removable-implementation",
   "metadata": {},
   "outputs": [],
   "source": [
    "psch = pd.read_csv(\"../data/raw/sg-primary-schools.csv\")"
   ]
  },
  {
   "cell_type": "code",
   "execution_count": null,
   "id": "exciting-compatibility",
   "metadata": {},
   "outputs": [],
   "source": [
    "overall = []\n",
    "for index, row in train[['latitude', 'longitude']].iterrows():\n",
    "    overall.append(count_n_nearest(psch, row))\n",
    "matrix = pd.DataFrame.from_records(overall)\n",
    "matrix.to_csv(\"psch-dist-matrix.csv\")"
   ]
  },
  {
   "cell_type": "code",
   "execution_count": null,
   "id": "european-glass",
   "metadata": {},
   "outputs": [],
   "source": [
    "overall = []\n",
    "for index, row in test[['latitude', 'longitude']].iterrows():\n",
    "    overall.append(count_n_nearest(psch, row))\n",
    "matrix = pd.DataFrame.from_records(overall)\n",
    "matrix.to_csv(\"test-psch-dist-matrix.csv\")"
   ]
  },
  {
   "cell_type": "markdown",
   "id": "laughing-robert",
   "metadata": {},
   "source": [
    "### Mall Distance Matrix"
   ]
  },
  {
   "cell_type": "code",
   "execution_count": null,
   "id": "august-arbor",
   "metadata": {},
   "outputs": [],
   "source": [
    "mall = pd.read_csv(\"../data/raw/sg-shopping-malls.csv\")"
   ]
  },
  {
   "cell_type": "code",
   "execution_count": null,
   "id": "colored-cooling",
   "metadata": {},
   "outputs": [],
   "source": [
    "overall = []\n",
    "for index, row in train[['latitude', 'longitude']].iterrows():\n",
    "    overall.append(count_n_nearest(mall, row))\n",
    "matrix = pd.DataFrame.from_records(overall)\n",
    "matrix.to_csv(\"mall-dist-matrix.csv\")"
   ]
  },
  {
   "cell_type": "code",
   "execution_count": null,
   "id": "level-director",
   "metadata": {},
   "outputs": [],
   "source": [
    "overall = []\n",
    "for index, row in test[['latitude', 'longitude']].iterrows():\n",
    "    overall.append(count_n_nearest(mall, row))\n",
    "matrix = pd.DataFrame.from_records(overall)\n",
    "matrix.to_csv(\"test-mall-dist-matrix.csv\")"
   ]
  },
  {
   "cell_type": "markdown",
   "id": "capital-fruit",
   "metadata": {},
   "source": [
    "### Commercial Center Distance Matrix"
   ]
  },
  {
   "cell_type": "code",
   "execution_count": null,
   "id": "native-passion",
   "metadata": {},
   "outputs": [],
   "source": [
    "comm = pd.read_csv(\"../data/raw/sg-commerical-centres.csv\")"
   ]
  },
  {
   "cell_type": "code",
   "execution_count": null,
   "id": "controlling-fetish",
   "metadata": {},
   "outputs": [],
   "source": [
    "overall = []\n",
    "for index, row in train[['latitude', 'longitude']].iterrows():\n",
    "    overall.append(count_n_nearest(comm, row))\n",
    "matrix = pd.DataFrame.from_records(overall)\n",
    "matrix.to_csv(\"comm-dist-matrix.csv\")"
   ]
  },
  {
   "cell_type": "code",
   "execution_count": null,
   "id": "bearing-bronze",
   "metadata": {},
   "outputs": [],
   "source": [
    "overall = []\n",
    "for index, row in test[['latitude', 'longitude']].iterrows():\n",
    "    overall.append(count_n_nearest(comm, row))\n",
    "matrix = pd.DataFrame.from_records(overall)\n",
    "matrix.to_csv(\"test-comm-dist-matrix.csv\")"
   ]
  },
  {
   "cell_type": "markdown",
   "id": "divided-aviation",
   "metadata": {},
   "source": [
    "### Hawker Center Distance Matrix"
   ]
  },
  {
   "cell_type": "code",
   "execution_count": null,
   "id": "talented-bridge",
   "metadata": {},
   "outputs": [],
   "source": [
    "hawker = pd.read_csv(\"../data/raw/sg-gov-markets-hawker-centres.csv\")"
   ]
  },
  {
   "cell_type": "code",
   "execution_count": null,
   "id": "lesbian-frederick",
   "metadata": {},
   "outputs": [],
   "source": [
    "overall = []\n",
    "for index, row in train[['latitude', 'longitude']].iterrows():\n",
    "    overall.append(count_n_nearest(hawker, row))\n",
    "matrix = pd.DataFrame.from_records(overall)\n",
    "matrix.to_csv(\"hawker-dist-matrix.csv\")"
   ]
  },
  {
   "cell_type": "code",
   "execution_count": null,
   "id": "hungry-oracle",
   "metadata": {},
   "outputs": [],
   "source": [
    "overall = []\n",
    "for index, row in test[['latitude', 'longitude']].iterrows():\n",
    "    overall.append(count_n_nearest(hawker, row))\n",
    "matrix = pd.DataFrame.from_records(overall)\n",
    "matrix.to_csv(\"test-hawker-dist-matrix.csv\")"
   ]
  },
  {
   "cell_type": "markdown",
   "id": "mineral-designer",
   "metadata": {},
   "source": [
    "## MRT distance metrix\n",
    "\n",
    "Difference is that mrts that existed only after the sales are masked."
   ]
  },
  {
   "cell_type": "code",
   "execution_count": null,
   "id": "lonely-acrylic",
   "metadata": {},
   "outputs": [],
   "source": [
    "stations = pd.read_csv(\"../data/raw/sg-train-stations.csv\")"
   ]
  },
  {
   "cell_type": "code",
   "execution_count": null,
   "id": "dirty-sugar",
   "metadata": {},
   "outputs": [],
   "source": [
    "def count_n_nearest_mrt(df, row):\n",
    "    length = df.shape[0]\n",
    "    lat = [row['latitude'] for i in range(length)]\n",
    "    lng = [row['longitude'] for i in range(length)]\n",
    "    can_be_used = np.array([row['year'] for i in range(length)]) > df['opening_year']\n",
    "    can_be_used = np.where(~can_be_used, 999999, can_be_used)\n",
    "    return haversine_np(list(df['lat']), list(df['lng']), lat, lng) * can_be_used"
   ]
  },
  {
   "cell_type": "code",
   "execution_count": null,
   "id": "marine-orientation",
   "metadata": {},
   "outputs": [],
   "source": [
    "overall = []\n",
    "for index, row in train[['year', 'latitude', 'longitude']].iterrows():\n",
    "    overall.append(count_n_nearest_mrt(stations, row))\n",
    "matrix = pd.DataFrame.from_records(overall)\n",
    "matrix.to_csv(\"stations-dist-matrix.csv\")"
   ]
  },
  {
   "cell_type": "code",
   "execution_count": null,
   "id": "laden-narrative",
   "metadata": {},
   "outputs": [],
   "source": [
    "overall = []\n",
    "for index, row in test[['year', 'latitude', 'longitude']].iterrows():\n",
    "    overall.append(count_n_nearest_mrt(stations, row))\n",
    "matrix = pd.DataFrame.from_records(overall)\n",
    "matrix.to_csv(\"test-stations-dist-matrix.csv\")"
   ]
  }
 ],
 "metadata": {
  "kernelspec": {
   "display_name": "Python 3",
   "language": "python",
   "name": "python3"
  },
  "language_info": {
   "codemirror_mode": {
    "name": "ipython",
    "version": 3
   },
   "file_extension": ".py",
   "mimetype": "text/x-python",
   "name": "python",
   "nbconvert_exporter": "python",
   "pygments_lexer": "ipython3",
   "version": "3.6.10"
  }
 },
 "nbformat": 4,
 "nbformat_minor": 5
}
