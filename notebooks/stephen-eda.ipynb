{
 "cells": [
  {
   "cell_type": "code",
   "execution_count": 1,
   "metadata": {
    "id": "C0DayalKX12e"
   },
   "outputs": [],
   "source": [
    "import pandas as pd\n",
    "import numpy as np\n",
    "import matplotlib.pyplot as plt\n",
    "import seaborn as sns"
   ]
  },
  {
   "cell_type": "markdown",
   "metadata": {
    "id": "DvqRuCe-P5JI"
   },
   "source": [
    "Run the following and use connect to local runtime on the top right button (beside editing)\n",
    "\n",
    "pip install jupyter_http_over_ws\n",
    "\n",
    "jupyter serverextension enable --py jupyter_http_over_ws\n",
    "\n",
    "jupyter notebook \\\n",
    "  --NotebookApp.allow_origin='https://colab.research.google.com' \\\n",
    "  --port=8888 \\\n",
    "  --NotebookApp.port_retries=0\n",
    "\n",
    "In Colaboratory, click the \"Connect\" button and select \"Connect to local runtime...\". Enter the URL in terminal from the previous step in the dialog that appears and click the \"Connect\" button. After this, you should now be connected to your local runtime. The URL should look like http://localhost:8888/"
   ]
  },
  {
   "cell_type": "code",
   "execution_count": 4,
   "metadata": {
    "colab": {
     "base_uri": "https://localhost:8080/"
    },
    "id": "Zi9ooFnwSVdw",
    "outputId": "d40eb943-8717-4398-d43b-8e50fae46e12"
   },
   "outputs": [
    {
     "name": "stdout",
     "output_type": "stream",
     "text": [
      "(431732, 17)\n"
     ]
    }
   ],
   "source": [
    "# after connecting to local runtime\n",
    "train = pd.read_csv(\"../data/raw/train.csv\")\n",
    "# test = pd.read_csv(\"./data/raw/test.csv\")\n",
    "# aux_commercial = pd.read_csv(\"./data/raw/sg-commerical-centres.csv\")\n",
    "# aux_hawker = pd.read_csv(\"./data/raw/sg-gov-markets-hawker-centres.csv\")\n",
    "# aux_demographics = pd.read_csv(\"./data/raw/sg-population-demographics.csv\")\n",
    "# aux_primaryschools = pd.read_csv(\"./data/raw/sg-primary-schools.csv\")\n",
    "# aux_secondaryschools = pd.read_csv(\"./data/raw/sg-secondary-schools.csv\")\n",
    "# aux_shoppingmalls = pd.read_csv(\"./data/raw/sg-shopping-malls.csv\")\n",
    "# aux_trainstations = pd.read_csv(\"./data/raw/sg-train-stations.csv\")\n",
    "\n",
    "print(train.shape)\n",
    "# print(test.shape)\n",
    "# print(aux_commercial.shape)\n",
    "# print(aux_hawker.shape)\n",
    "# print(aux_demographics.shape)\n",
    "# print(aux_primaryschools.shape)\n",
    "# print(aux_shoppingmalls.shape)\n",
    "# print(aux_trainstations.shape)"
   ]
  },
  {
   "cell_type": "code",
   "execution_count": 5,
   "metadata": {
    "colab": {
     "base_uri": "https://localhost:8080/",
     "height": 309
    },
    "id": "c7r-MdDneghg",
    "outputId": "795039cc-9414-4ef2-f98d-00710ffe4cd6"
   },
   "outputs": [
    {
     "data": {
      "text/html": [
       "<div>\n",
       "<style scoped>\n",
       "    .dataframe tbody tr th:only-of-type {\n",
       "        vertical-align: middle;\n",
       "    }\n",
       "\n",
       "    .dataframe tbody tr th {\n",
       "        vertical-align: top;\n",
       "    }\n",
       "\n",
       "    .dataframe thead th {\n",
       "        text-align: right;\n",
       "    }\n",
       "</style>\n",
       "<table border=\"1\" class=\"dataframe\">\n",
       "  <thead>\n",
       "    <tr style=\"text-align: right;\">\n",
       "      <th></th>\n",
       "      <th>month</th>\n",
       "      <th>town</th>\n",
       "      <th>flat_type</th>\n",
       "      <th>block</th>\n",
       "      <th>street_name</th>\n",
       "      <th>storey_range</th>\n",
       "      <th>floor_area_sqm</th>\n",
       "      <th>flat_model</th>\n",
       "      <th>eco_category</th>\n",
       "      <th>lease_commence_date</th>\n",
       "      <th>latitude</th>\n",
       "      <th>longitude</th>\n",
       "      <th>elevation</th>\n",
       "      <th>subzone</th>\n",
       "      <th>planning_area</th>\n",
       "      <th>region</th>\n",
       "      <th>resale_price</th>\n",
       "    </tr>\n",
       "  </thead>\n",
       "  <tbody>\n",
       "    <tr>\n",
       "      <th>231221</th>\n",
       "      <td>2006-02</td>\n",
       "      <td>jurong west</td>\n",
       "      <td>5 room</td>\n",
       "      <td>851</td>\n",
       "      <td>jurong west street 81</td>\n",
       "      <td>01 to 03</td>\n",
       "      <td>129.0</td>\n",
       "      <td>improved</td>\n",
       "      <td>uncategorized</td>\n",
       "      <td>1996</td>\n",
       "      <td>1.346592</td>\n",
       "      <td>103.692474</td>\n",
       "      <td>0.0</td>\n",
       "      <td>yunnan</td>\n",
       "      <td>jurong west</td>\n",
       "      <td>west region</td>\n",
       "      <td>216000.0</td>\n",
       "    </tr>\n",
       "    <tr>\n",
       "      <th>409322</th>\n",
       "      <td>2010-01</td>\n",
       "      <td>ang mo kio</td>\n",
       "      <td>3-room</td>\n",
       "      <td>476</td>\n",
       "      <td>ang mo kio avenue 10</td>\n",
       "      <td>04 to 06</td>\n",
       "      <td>82.0</td>\n",
       "      <td>new generation</td>\n",
       "      <td>uncategorized</td>\n",
       "      <td>1979</td>\n",
       "      <td>1.362388</td>\n",
       "      <td>103.857881</td>\n",
       "      <td>0.0</td>\n",
       "      <td>chong boon</td>\n",
       "      <td>ang mo kio</td>\n",
       "      <td>north-east region</td>\n",
       "      <td>267750.0</td>\n",
       "    </tr>\n",
       "    <tr>\n",
       "      <th>319550</th>\n",
       "      <td>2003-09</td>\n",
       "      <td>queenstown</td>\n",
       "      <td>3 room</td>\n",
       "      <td>19</td>\n",
       "      <td>ghim moh road</td>\n",
       "      <td>07 to 09</td>\n",
       "      <td>76.0</td>\n",
       "      <td>improved</td>\n",
       "      <td>uncategorized</td>\n",
       "      <td>1977</td>\n",
       "      <td>1.311439</td>\n",
       "      <td>103.788299</td>\n",
       "      <td>0.0</td>\n",
       "      <td>ghim moh</td>\n",
       "      <td>queenstown</td>\n",
       "      <td>central region</td>\n",
       "      <td>168750.0</td>\n",
       "    </tr>\n",
       "    <tr>\n",
       "      <th>383756</th>\n",
       "      <td>2009-09</td>\n",
       "      <td>tampines</td>\n",
       "      <td>3 room</td>\n",
       "      <td>271</td>\n",
       "      <td>Tampines Street 21</td>\n",
       "      <td>04 to 06</td>\n",
       "      <td>75.0</td>\n",
       "      <td>model a</td>\n",
       "      <td>uncategorized</td>\n",
       "      <td>1984</td>\n",
       "      <td>1.349808</td>\n",
       "      <td>103.949578</td>\n",
       "      <td>0.0</td>\n",
       "      <td>tampines east</td>\n",
       "      <td>tampines</td>\n",
       "      <td>east region</td>\n",
       "      <td>252000.0</td>\n",
       "    </tr>\n",
       "    <tr>\n",
       "      <th>170295</th>\n",
       "      <td>2012-05</td>\n",
       "      <td>woodlands</td>\n",
       "      <td>4-room</td>\n",
       "      <td>530</td>\n",
       "      <td>woodlands drive 14</td>\n",
       "      <td>01 to 05</td>\n",
       "      <td>104.0</td>\n",
       "      <td>premium apartment</td>\n",
       "      <td>uncategorized</td>\n",
       "      <td>1999</td>\n",
       "      <td>1.431411</td>\n",
       "      <td>103.793187</td>\n",
       "      <td>0.0</td>\n",
       "      <td>woodlands south</td>\n",
       "      <td>woodlands</td>\n",
       "      <td>north region</td>\n",
       "      <td>373500.0</td>\n",
       "    </tr>\n",
       "  </tbody>\n",
       "</table>\n",
       "</div>"
      ],
      "text/plain": [
       "          month         town flat_type block            street_name  \\\n",
       "231221  2006-02  jurong west    5 room   851  jurong west street 81   \n",
       "409322  2010-01   ang mo kio    3-room   476   ang mo kio avenue 10   \n",
       "319550  2003-09   queenstown    3 room    19          ghim moh road   \n",
       "383756  2009-09     tampines    3 room   271     Tampines Street 21   \n",
       "170295  2012-05    woodlands    4-room   530     woodlands drive 14   \n",
       "\n",
       "       storey_range  floor_area_sqm         flat_model   eco_category  \\\n",
       "231221     01 to 03           129.0           improved  uncategorized   \n",
       "409322     04 to 06            82.0     new generation  uncategorized   \n",
       "319550     07 to 09            76.0           improved  uncategorized   \n",
       "383756     04 to 06            75.0            model a  uncategorized   \n",
       "170295     01 to 05           104.0  premium apartment  uncategorized   \n",
       "\n",
       "        lease_commence_date  latitude   longitude  elevation          subzone  \\\n",
       "231221                 1996  1.346592  103.692474        0.0           yunnan   \n",
       "409322                 1979  1.362388  103.857881        0.0       chong boon   \n",
       "319550                 1977  1.311439  103.788299        0.0         ghim moh   \n",
       "383756                 1984  1.349808  103.949578        0.0    tampines east   \n",
       "170295                 1999  1.431411  103.793187        0.0  woodlands south   \n",
       "\n",
       "       planning_area             region  resale_price  \n",
       "231221   jurong west        west region      216000.0  \n",
       "409322    ang mo kio  north-east region      267750.0  \n",
       "319550    queenstown     central region      168750.0  \n",
       "383756      tampines        east region      252000.0  \n",
       "170295     woodlands       north region      373500.0  "
      ]
     },
     "execution_count": 5,
     "metadata": {},
     "output_type": "execute_result"
    }
   ],
   "source": [
    "train.sample(5)"
   ]
  },
  {
   "cell_type": "code",
   "execution_count": 6,
   "metadata": {
    "colab": {
     "base_uri": "https://localhost:8080/"
    },
    "id": "LxeKFsHx-14a",
    "outputId": "472c2834-c607-4228-c3f7-ee2277242c74"
   },
   "outputs": [
    {
     "name": "stdout",
     "output_type": "stream",
     "text": [
      "There are 0 data points that have at least 1 missing value (NA)\n"
     ]
    }
   ],
   "source": [
    "df_na = train[train.isna().any(axis=1)]\n",
    "print(\"There are {} data points that have at least 1 missing value (NA)\".format(df_na.shape[0]))"
   ]
  },
  {
   "cell_type": "code",
   "execution_count": 7,
   "metadata": {
    "colab": {
     "base_uri": "https://localhost:8080/"
    },
    "id": "avu6Tz_5SHO6",
    "outputId": "a87a536b-e6d7-43be-9a5f-a0eb9304960c"
   },
   "outputs": [
    {
     "name": "stdout",
     "output_type": "stream",
     "text": [
      "uncategorized    431732\n",
      "Name: eco_category, dtype: int64\n",
      "0.0    431732\n",
      "Name: elevation, dtype: int64\n",
      "4 room              135679\n",
      "3 room               99886\n",
      "5 room               77133\n",
      "4-room               33918\n",
      "executive            32724\n",
      "3-room               25835\n",
      "5-room               21564\n",
      "2 room                3580\n",
      "2-room                 942\n",
      "1 room                 222\n",
      "multi generation       185\n",
      "1-room                  64\n",
      "Name: flat_type, dtype: int64\n"
     ]
    }
   ],
   "source": [
    "# for col in train.columns:\n",
    "#   print(train[col].value_counts())\n",
    "print(train['eco_category'].value_counts())\n",
    "print(train['elevation'].value_counts())\n",
    "print(train['flat_type'].value_counts())"
   ]
  },
  {
   "cell_type": "markdown",
   "metadata": {
    "id": "LvYW0aQ5Y3R8"
   },
   "source": [
    "eco_category is all uncategorized. elevation is all 0. Propose we drop these columns entirely.\n",
    "\n",
    "clean flat_type by combining \"4-room\" and \"4 room\", \"5-room\" and \"5 room\" etc.\n",
    "\n",
    "Propose to create a new column price_per_sqm by dividing resale_price by floor_area_sqm. This allows us to compare across vastly different house sizes."
   ]
  },
  {
   "cell_type": "code",
   "execution_count": 8,
   "metadata": {
    "colab": {
     "base_uri": "https://localhost:8080/",
     "height": 677
    },
    "id": "sXA6U-rapf6T",
    "outputId": "c968a880-f4ec-48a7-cf2f-9f71c1fd303c"
   },
   "outputs": [
    {
     "data": {
      "text/html": [
       "<div>\n",
       "<style scoped>\n",
       "    .dataframe tbody tr th:only-of-type {\n",
       "        vertical-align: middle;\n",
       "    }\n",
       "\n",
       "    .dataframe tbody tr th {\n",
       "        vertical-align: top;\n",
       "    }\n",
       "\n",
       "    .dataframe thead th {\n",
       "        text-align: right;\n",
       "    }\n",
       "</style>\n",
       "<table border=\"1\" class=\"dataframe\">\n",
       "  <thead>\n",
       "    <tr style=\"text-align: right;\">\n",
       "      <th></th>\n",
       "      <th>month</th>\n",
       "      <th>town</th>\n",
       "      <th>flat_type</th>\n",
       "      <th>block</th>\n",
       "      <th>street_name</th>\n",
       "      <th>storey_range</th>\n",
       "      <th>floor_area_sqm</th>\n",
       "      <th>flat_model</th>\n",
       "      <th>lease_commence_date</th>\n",
       "      <th>latitude</th>\n",
       "      <th>longitude</th>\n",
       "      <th>subzone</th>\n",
       "      <th>planning_area</th>\n",
       "      <th>region</th>\n",
       "      <th>resale_price</th>\n",
       "      <th>year</th>\n",
       "      <th>price_per_sqm</th>\n",
       "      <th>age</th>\n",
       "    </tr>\n",
       "  </thead>\n",
       "  <tbody>\n",
       "    <tr>\n",
       "      <th>0</th>\n",
       "      <td>8</td>\n",
       "      <td>pasir ris</td>\n",
       "      <td>4 room</td>\n",
       "      <td>440</td>\n",
       "      <td>pasir ris drive 4</td>\n",
       "      <td>01 to 03</td>\n",
       "      <td>118.0</td>\n",
       "      <td>model a</td>\n",
       "      <td>1989</td>\n",
       "      <td>1.369008</td>\n",
       "      <td>103.958697</td>\n",
       "      <td>pasir ris drive</td>\n",
       "      <td>pasir ris</td>\n",
       "      <td>east region</td>\n",
       "      <td>209700.0</td>\n",
       "      <td>2001</td>\n",
       "      <td>1777.118644</td>\n",
       "      <td>12</td>\n",
       "    </tr>\n",
       "    <tr>\n",
       "      <th>1</th>\n",
       "      <td>10</td>\n",
       "      <td>punggol</td>\n",
       "      <td>5 room</td>\n",
       "      <td>196B</td>\n",
       "      <td>punggol field</td>\n",
       "      <td>10 to 12</td>\n",
       "      <td>110.0</td>\n",
       "      <td>improved</td>\n",
       "      <td>2003</td>\n",
       "      <td>1.399007</td>\n",
       "      <td>103.906991</td>\n",
       "      <td>punggol field</td>\n",
       "      <td>punggol</td>\n",
       "      <td>north-east region</td>\n",
       "      <td>402300.0</td>\n",
       "      <td>2014</td>\n",
       "      <td>3657.272727</td>\n",
       "      <td>11</td>\n",
       "    </tr>\n",
       "    <tr>\n",
       "      <th>2</th>\n",
       "      <td>9</td>\n",
       "      <td>sengkang</td>\n",
       "      <td>5 room</td>\n",
       "      <td>404A</td>\n",
       "      <td>fernvale lane</td>\n",
       "      <td>01 to 03</td>\n",
       "      <td>112.0</td>\n",
       "      <td>premium apartment</td>\n",
       "      <td>2004</td>\n",
       "      <td>1.388348</td>\n",
       "      <td>103.873815</td>\n",
       "      <td>fernvale</td>\n",
       "      <td>sengkang</td>\n",
       "      <td>north-east region</td>\n",
       "      <td>351000.0</td>\n",
       "      <td>2020</td>\n",
       "      <td>3133.928571</td>\n",
       "      <td>16</td>\n",
       "    </tr>\n",
       "    <tr>\n",
       "      <th>3</th>\n",
       "      <td>10</td>\n",
       "      <td>clementi</td>\n",
       "      <td>3 room</td>\n",
       "      <td>375</td>\n",
       "      <td>clementi avenue 4</td>\n",
       "      <td>07 to 09</td>\n",
       "      <td>67.0</td>\n",
       "      <td>new generation</td>\n",
       "      <td>1980</td>\n",
       "      <td>1.318493</td>\n",
       "      <td>103.766702</td>\n",
       "      <td>clementi north</td>\n",
       "      <td>clementi</td>\n",
       "      <td>west region</td>\n",
       "      <td>151200.0</td>\n",
       "      <td>2000</td>\n",
       "      <td>2256.716418</td>\n",
       "      <td>20</td>\n",
       "    </tr>\n",
       "    <tr>\n",
       "      <th>4</th>\n",
       "      <td>1</td>\n",
       "      <td>bukit batok</td>\n",
       "      <td>3 room</td>\n",
       "      <td>163</td>\n",
       "      <td>bukit batok street 11</td>\n",
       "      <td>07 to 09</td>\n",
       "      <td>73.0</td>\n",
       "      <td>model a</td>\n",
       "      <td>1985</td>\n",
       "      <td>1.348149</td>\n",
       "      <td>103.742658</td>\n",
       "      <td>bukit batok west</td>\n",
       "      <td>bukit batok</td>\n",
       "      <td>west region</td>\n",
       "      <td>318600.0</td>\n",
       "      <td>2013</td>\n",
       "      <td>4364.383562</td>\n",
       "      <td>28</td>\n",
       "    </tr>\n",
       "    <tr>\n",
       "      <th>...</th>\n",
       "      <td>...</td>\n",
       "      <td>...</td>\n",
       "      <td>...</td>\n",
       "      <td>...</td>\n",
       "      <td>...</td>\n",
       "      <td>...</td>\n",
       "      <td>...</td>\n",
       "      <td>...</td>\n",
       "      <td>...</td>\n",
       "      <td>...</td>\n",
       "      <td>...</td>\n",
       "      <td>...</td>\n",
       "      <td>...</td>\n",
       "      <td>...</td>\n",
       "      <td>...</td>\n",
       "      <td>...</td>\n",
       "      <td>...</td>\n",
       "      <td>...</td>\n",
       "    </tr>\n",
       "    <tr>\n",
       "      <th>431727</th>\n",
       "      <td>3</td>\n",
       "      <td>woodlands</td>\n",
       "      <td>4 room</td>\n",
       "      <td>537</td>\n",
       "      <td>Woodlands Drive 16</td>\n",
       "      <td>01 to 03</td>\n",
       "      <td>101.0</td>\n",
       "      <td>model a</td>\n",
       "      <td>2000</td>\n",
       "      <td>1.429658</td>\n",
       "      <td>103.792583</td>\n",
       "      <td>woodlands south</td>\n",
       "      <td>woodlands</td>\n",
       "      <td>north region</td>\n",
       "      <td>238500.0</td>\n",
       "      <td>2005</td>\n",
       "      <td>2361.386139</td>\n",
       "      <td>5</td>\n",
       "    </tr>\n",
       "    <tr>\n",
       "      <th>431728</th>\n",
       "      <td>4</td>\n",
       "      <td>sengkang</td>\n",
       "      <td>4 room</td>\n",
       "      <td>410A</td>\n",
       "      <td>fernvale road</td>\n",
       "      <td>13 to 15</td>\n",
       "      <td>95.0</td>\n",
       "      <td>premium apartment</td>\n",
       "      <td>2012</td>\n",
       "      <td>1.390053</td>\n",
       "      <td>103.875941</td>\n",
       "      <td>fernvale</td>\n",
       "      <td>sengkang</td>\n",
       "      <td>north-east region</td>\n",
       "      <td>376200.0</td>\n",
       "      <td>2016</td>\n",
       "      <td>3960.000000</td>\n",
       "      <td>4</td>\n",
       "    </tr>\n",
       "    <tr>\n",
       "      <th>431729</th>\n",
       "      <td>1</td>\n",
       "      <td>tampines</td>\n",
       "      <td>3 room</td>\n",
       "      <td>829</td>\n",
       "      <td>tampines street 81</td>\n",
       "      <td>01 to 03</td>\n",
       "      <td>67.0</td>\n",
       "      <td>new generation</td>\n",
       "      <td>1986</td>\n",
       "      <td>1.349224</td>\n",
       "      <td>103.934913</td>\n",
       "      <td>tampines west</td>\n",
       "      <td>tampines</td>\n",
       "      <td>east region</td>\n",
       "      <td>255600.0</td>\n",
       "      <td>2011</td>\n",
       "      <td>3814.925373</td>\n",
       "      <td>25</td>\n",
       "    </tr>\n",
       "    <tr>\n",
       "      <th>431730</th>\n",
       "      <td>5</td>\n",
       "      <td>sengkang</td>\n",
       "      <td>5 room</td>\n",
       "      <td>233</td>\n",
       "      <td>compassvale walk</td>\n",
       "      <td>16 to 18</td>\n",
       "      <td>123.0</td>\n",
       "      <td>improved</td>\n",
       "      <td>1999</td>\n",
       "      <td>1.389941</td>\n",
       "      <td>103.900721</td>\n",
       "      <td>sengkang town centre</td>\n",
       "      <td>sengkang</td>\n",
       "      <td>north-east region</td>\n",
       "      <td>508500.0</td>\n",
       "      <td>2013</td>\n",
       "      <td>4134.146341</td>\n",
       "      <td>14</td>\n",
       "    </tr>\n",
       "    <tr>\n",
       "      <th>431731</th>\n",
       "      <td>8</td>\n",
       "      <td>choa chu kang</td>\n",
       "      <td>4 room</td>\n",
       "      <td>121</td>\n",
       "      <td>Teck Whye Lane</td>\n",
       "      <td>01 to 03</td>\n",
       "      <td>104.0</td>\n",
       "      <td>model a</td>\n",
       "      <td>1989</td>\n",
       "      <td>1.378304</td>\n",
       "      <td>103.750108</td>\n",
       "      <td>teck whye</td>\n",
       "      <td>choa chu kang</td>\n",
       "      <td>west region</td>\n",
       "      <td>162000.0</td>\n",
       "      <td>2007</td>\n",
       "      <td>1557.692308</td>\n",
       "      <td>18</td>\n",
       "    </tr>\n",
       "  </tbody>\n",
       "</table>\n",
       "<p>431732 rows × 18 columns</p>\n",
       "</div>"
      ],
      "text/plain": [
       "        month           town flat_type block            street_name  \\\n",
       "0           8      pasir ris    4 room   440      pasir ris drive 4   \n",
       "1          10        punggol    5 room  196B          punggol field   \n",
       "2           9       sengkang    5 room  404A          fernvale lane   \n",
       "3          10       clementi    3 room   375      clementi avenue 4   \n",
       "4           1    bukit batok    3 room   163  bukit batok street 11   \n",
       "...       ...            ...       ...   ...                    ...   \n",
       "431727      3      woodlands    4 room   537     Woodlands Drive 16   \n",
       "431728      4       sengkang    4 room  410A          fernvale road   \n",
       "431729      1       tampines    3 room   829     tampines street 81   \n",
       "431730      5       sengkang    5 room   233       compassvale walk   \n",
       "431731      8  choa chu kang    4 room   121         Teck Whye Lane   \n",
       "\n",
       "       storey_range  floor_area_sqm         flat_model  lease_commence_date  \\\n",
       "0          01 to 03           118.0            model a                 1989   \n",
       "1          10 to 12           110.0           improved                 2003   \n",
       "2          01 to 03           112.0  premium apartment                 2004   \n",
       "3          07 to 09            67.0     new generation                 1980   \n",
       "4          07 to 09            73.0            model a                 1985   \n",
       "...             ...             ...                ...                  ...   \n",
       "431727     01 to 03           101.0            model a                 2000   \n",
       "431728     13 to 15            95.0  premium apartment                 2012   \n",
       "431729     01 to 03            67.0     new generation                 1986   \n",
       "431730     16 to 18           123.0           improved                 1999   \n",
       "431731     01 to 03           104.0            model a                 1989   \n",
       "\n",
       "        latitude   longitude               subzone  planning_area  \\\n",
       "0       1.369008  103.958697       pasir ris drive      pasir ris   \n",
       "1       1.399007  103.906991         punggol field        punggol   \n",
       "2       1.388348  103.873815              fernvale       sengkang   \n",
       "3       1.318493  103.766702        clementi north       clementi   \n",
       "4       1.348149  103.742658      bukit batok west    bukit batok   \n",
       "...          ...         ...                   ...            ...   \n",
       "431727  1.429658  103.792583       woodlands south      woodlands   \n",
       "431728  1.390053  103.875941              fernvale       sengkang   \n",
       "431729  1.349224  103.934913         tampines west       tampines   \n",
       "431730  1.389941  103.900721  sengkang town centre       sengkang   \n",
       "431731  1.378304  103.750108             teck whye  choa chu kang   \n",
       "\n",
       "                   region  resale_price  year  price_per_sqm  age  \n",
       "0             east region      209700.0  2001    1777.118644   12  \n",
       "1       north-east region      402300.0  2014    3657.272727   11  \n",
       "2       north-east region      351000.0  2020    3133.928571   16  \n",
       "3             west region      151200.0  2000    2256.716418   20  \n",
       "4             west region      318600.0  2013    4364.383562   28  \n",
       "...                   ...           ...   ...            ...  ...  \n",
       "431727       north region      238500.0  2005    2361.386139    5  \n",
       "431728  north-east region      376200.0  2016    3960.000000    4  \n",
       "431729        east region      255600.0  2011    3814.925373   25  \n",
       "431730  north-east region      508500.0  2013    4134.146341   14  \n",
       "431731        west region      162000.0  2007    1557.692308   18  \n",
       "\n",
       "[431732 rows x 18 columns]"
      ]
     },
     "execution_count": 8,
     "metadata": {},
     "output_type": "execute_result"
    }
   ],
   "source": [
    "train['year'] = train.month.str[:4].astype(int)\n",
    "train['month'] = train.month.str[5:].astype(int)\n",
    "\n",
    "train['price_per_sqm'] = train.resale_price / train.floor_area_sqm # adds a new column ppsqm\n",
    "train['age'] = train.year - train.lease_commence_date # adds new col age\n",
    "train = train.drop(['eco_category', 'elevation'], axis=1)\n",
    "\n",
    "train['flat_type'] = train.flat_type.str.replace(\"-\", \" \")\n",
    "\n",
    "train"
   ]
  },
  {
   "cell_type": "code",
   "execution_count": 9,
   "metadata": {
    "colab": {
     "base_uri": "https://localhost:8080/",
     "height": 265
    },
    "id": "OV2nw9NClbol",
    "outputId": "3730f94f-1370-4c9e-a3fc-2e287bfb30c3"
   },
   "outputs": [
    {
     "data": {
      "image/png": "[encoded data removed]",
      "text/plain": [
       "<Figure size 432x288 with 1 Axes>"
      ]
     },
     "metadata": {
      "needs_background": "light"
     },
     "output_type": "display_data"
    }
   ],
   "source": [
    "### Where\n",
    "\n",
    "plt.scatter(train.longitude, train.latitude) # longitude is x axis\n",
    "plt.show()"
   ]
  },
  {
   "cell_type": "code",
   "execution_count": 10,
   "metadata": {
    "colab": {
     "base_uri": "https://localhost:8080/",
     "height": 356
    },
    "id": "Vgx1R9AtMGn_",
    "outputId": "522efe31-fecf-4c83-aa80-b4ee1ee4a160"
   },
   "outputs": [
    {
     "data": {
      "image/png": "[encoded data removed]",
      "text/plain": [
       "<Figure size 432x288 with 1 Axes>"
      ]
     },
     "metadata": {
      "needs_background": "light"
     },
     "output_type": "display_data"
    }
   ],
   "source": [
    "p = sns.boxplot(x=train.region, y=train.floor_area_sqm)\n",
    "plt.xticks(rotation=90)\n",
    "plt.show()"
   ]
  },
  {
   "cell_type": "code",
   "execution_count": 11,
   "metadata": {
    "colab": {
     "base_uri": "https://localhost:8080/",
     "height": 361
    },
    "id": "stnNKM4hL89f",
    "outputId": "6aaaa0e0-7ea7-4f8b-c774-a2aec7fa19d9"
   },
   "outputs": [
    {
     "data": {
      "image/png": "[encoded data removed]",
      "text/plain": [
       "<Figure size 432x288 with 1 Axes>"
      ]
     },
     "metadata": {
      "needs_background": "light"
     },
     "output_type": "display_data"
    }
   ],
   "source": [
    "p = sns.boxplot(x=train.town, y=train.price_per_sqm)\n",
    "plt.xticks(rotation=90)\n",
    "plt.show()"
   ]
  },
  {
   "cell_type": "code",
   "execution_count": 12,
   "metadata": {
    "colab": {
     "base_uri": "https://localhost:8080/",
     "height": 297
    },
    "id": "Mz6DunjMBuyt",
    "outputId": "f4dbc0eb-9539-47d6-b947-57aa88fc34ea"
   },
   "outputs": [
    {
     "data": {
      "image/png": "[encoded data removed]",
      "text/plain": [
       "<Figure size 432x288 with 1 Axes>"
      ]
     },
     "metadata": {},
     "output_type": "display_data"
    }
   ],
   "source": [
    "### What. Housing type proportion in the data set\n",
    "\n",
    "# Calculate all unique labels together with their respective counts\n",
    "(labels, counts) = np.unique(train.flat_type, return_counts=True)\n",
    "\n",
    "# Normalize the counts\n",
    "counts = counts / np.sum(counts)\n",
    "\n",
    "fig1, ax1 = plt.subplots()\n",
    "plt.tick_params(labelsize=24)\n",
    "\n",
    "patches, texts, autotexts = ax1.pie(counts, labels=labels, autopct='%1.1f%%', shadow=False, startangle=45)\n",
    "\n",
    "for t in texts:\n",
    "    t.set_fontsize(10)\n",
    "for t in autotexts:\n",
    "    t.set_fontsize(10)    \n",
    "ax1.axis('equal')  # Equal aspect ratio ensures that pie is drawn as a circle.\n",
    "plt.tight_layout()\n",
    "plt.show()"
   ]
  },
  {
   "cell_type": "code",
   "execution_count": 13,
   "metadata": {
    "colab": {
     "base_uri": "https://localhost:8080/",
     "height": 297
    },
    "id": "4FBZvdKEDGRC",
    "outputId": "fa1ea929-a1b1-4d0e-9a6f-a32a08f81305"
   },
   "outputs": [
    {
     "data": {
      "image/png": "[encoded data removed]",
      "text/plain": [
       "<Figure size 432x288 with 1 Axes>"
      ]
     },
     "metadata": {
      "needs_background": "light"
     },
     "output_type": "display_data"
    }
   ],
   "source": [
    "### Distribution of price_per_sqm\n",
    "\n",
    "plt.figure()\n",
    "plt.tick_params(labelsize=14)\n",
    "plt.hist(train['price_per_sqm'].to_numpy(), bins=100)\n",
    "plt.xlabel('price', fontsize=16)\n",
    "plt.ylabel('number transactions', fontsize=16)\n",
    "plt.tight_layout()\n",
    "plt.show()"
   ]
  },
  {
   "cell_type": "code",
   "execution_count": 14,
   "metadata": {
    "colab": {
     "base_uri": "https://localhost:8080/",
     "height": 393
    },
    "id": "J5prhKhTJTtY",
    "outputId": "3f065756-ca75-481c-8852-27554a716527"
   },
   "outputs": [
    {
     "data": {
      "image/png": "[encoded data removed]",
      "text/plain": [
       "<Figure size 432x288 with 1 Axes>"
      ]
     },
     "metadata": {
      "needs_background": "light"
     },
     "output_type": "display_data"
    }
   ],
   "source": [
    "### flat_model is a relatively good predictor for s1, s2 models\n",
    "p = sns.boxplot(x=train.flat_model, y=train.price_per_sqm)\n",
    "plt.xticks(rotation=90)\n",
    "plt.show()"
   ]
  },
  {
   "cell_type": "code",
   "execution_count": 15,
   "metadata": {
    "colab": {
     "base_uri": "https://localhost:8080/",
     "height": 315
    },
    "id": "fXsG98e3GOYA",
    "outputId": "dcffb142-3b77-4b7e-c859-2847700c39ed"
   },
   "outputs": [
    {
     "data": {
      "image/png": "[encoded data removed]",
      "text/plain": [
       "<Figure size 432x288 with 1 Axes>"
      ]
     },
     "metadata": {
      "needs_background": "light"
     },
     "output_type": "display_data"
    }
   ],
   "source": [
    "### storey range on its own isnt a strong predictor\n",
    "p = sns.boxplot(x=train.storey_range, y=train.price_per_sqm)\n",
    "plt.xticks(rotation=90)\n",
    "plt.show()"
   ]
  },
  {
   "cell_type": "code",
   "execution_count": 16,
   "metadata": {
    "colab": {
     "base_uri": "https://localhost:8080/",
     "height": 297
    },
    "id": "txOe-DQlKQlU",
    "outputId": "7129acc2-0df6-4705-874a-99a921fe0fe2"
   },
   "outputs": [
    {
     "data": {
      "image/png": "[encoded data removed]",
      "text/plain": [
       "<Figure size 432x288 with 1 Axes>"
      ]
     },
     "metadata": {
      "needs_background": "light"
     },
     "output_type": "display_data"
    }
   ],
   "source": [
    "### Age alone isnt a strong predictor either since there isnt any obvious correlation\n",
    "\n",
    "X_price = train.price_per_sqm\n",
    "X_age = train.age\n",
    "\n",
    "plt.figure()\n",
    "plt.tick_params(labelsize=14)\n",
    "plt.scatter(X_age, X_price)\n",
    "plt.xlabel('age', fontsize=16)\n",
    "plt.ylabel('price_per_sqm', fontsize=16)\n",
    "plt.tight_layout()\n",
    "plt.show()"
   ]
  },
  {
   "cell_type": "code",
   "execution_count": 31,
   "metadata": {
    "colab": {
     "base_uri": "https://localhost:8080/"
    },
    "id": "BNE8iA0lSK7L",
    "outputId": "ef8649b6-632b-4cb2-d5fc-533ff96f5ffa"
   },
   "outputs": [
    {
     "name": "stdout",
     "output_type": "stream",
     "text": [
      "Alexandra                                        1\n",
      "Loyang Industrial Estate                         1\n",
      "Nanyang Technological University                 1\n",
      "Changi Business Park                             1\n",
      "Seletar Regional Centre                          1\n",
      "Jurong Industrial Estate                         1\n",
      "Changi Aviation Park                             1\n",
      "Lorong Halus Industrial Park                     1\n",
      "Paya Lebar Central                               1\n",
      "Seletar Aerospace Park                           1\n",
      "Tuas Medical Park                                1\n",
      "Woodlands Regional Centre                        1\n",
      "Central Business District                        1\n",
      "Changi East Urban District                       1\n",
      "Airport Logistics Park                           1\n",
      "Singapore Institute of Technology                1\n",
      "International Business Park                      1\n",
      "Singapore Management University                  1\n",
      "Jurong Innovation District                       1\n",
      "Serangoon                                        1\n",
      "Tuas Industrial Estate                           1\n",
      "Sengkang West                                    1\n",
      "one-north                                        1\n",
      "Tao Payoh                                        1\n",
      "Novena                                           1\n",
      "Punggol Digital District                         1\n",
      "Sungei Kadut                                     1\n",
      "Singapore Science Park I                         1\n",
      "National University of Singapore                 1\n",
      "Singapore Univeristy of Technology and Design    1\n",
      "Jurong Lake District                             1\n",
      "Defu Industrial Park                             1\n",
      "Tampines Regional Centre                         1\n",
      "Singapore Science Park II                        1\n",
      "Senoko Industrial Estate                         1\n",
      "Buona Vista                                      1\n",
      "Pasir Ris Wafer Fab Park                         1\n",
      "Bishan                                           1\n",
      "Name: name, dtype: int64\n",
      "IEBP    19\n",
      "BN       8\n",
      "CR       5\n",
      "IHL      5\n",
      "IEPB     1\n",
      "Name: type, dtype: int64\n",
      "1.409435    2\n",
      "1.335123    1\n",
      "1.318164    1\n",
      "1.334085    1\n",
      "1.301472    1\n",
      "1.350851    1\n",
      "1.355457    1\n",
      "1.288890    1\n",
      "1.458683    1\n",
      "1.290610    1\n",
      "1.351254    1\n",
      "1.327911    1\n",
      "1.295369    1\n",
      "1.306479    1\n",
      "1.298814    1\n",
      "1.332590    1\n",
      "1.380760    1\n",
      "1.375386    1\n",
      "1.325451    1\n",
      "1.383452    1\n",
      "1.286768    1\n",
      "1.295770    1\n",
      "1.393527    1\n",
      "1.353293    1\n",
      "1.436748    1\n",
      "1.375856    1\n",
      "1.368803    1\n",
      "1.288121    1\n",
      "1.296069    1\n",
      "1.353180    1\n",
      "1.341398    1\n",
      "1.415895    1\n",
      "1.411289    1\n",
      "1.320016    1\n",
      "1.320497    1\n",
      "1.348906    1\n",
      "1.287471    1\n",
      "Name: lat, dtype: int64\n",
      "103.866820    2\n",
      "103.872296    1\n",
      "103.775995    1\n",
      "103.788005    1\n",
      "103.848224    1\n",
      "103.963564    1\n",
      "103.625787    1\n",
      "104.001026    1\n",
      "103.965127    1\n",
      "104.002617    1\n",
      "103.780520    1\n",
      "103.854529    1\n",
      "103.781332    1\n",
      "103.848221    1\n",
      "103.992167    1\n",
      "103.786485    1\n",
      "103.752237    1\n",
      "103.790078    1\n",
      "103.694896    1\n",
      "103.734513    1\n",
      "103.893500    1\n",
      "103.788938    1\n",
      "103.626689    1\n",
      "103.747405    1\n",
      "103.930988    1\n",
      "103.974425    1\n",
      "103.695421    1\n",
      "103.682644    1\n",
      "103.911697    1\n",
      "103.804350    1\n",
      "103.843395    1\n",
      "103.850319    1\n",
      "103.902112    1\n",
      "103.799061    1\n",
      "103.895074    1\n",
      "103.945188    1\n",
      "103.861893    1\n",
      "Name: lng, dtype: int64\n"
     ]
    }
   ],
   "source": [
    "print(aux_commercial.sample(5))\n",
    "for col in aux_commercial.columns:\n",
    "  print(aux_commercial[col].value_counts())"
   ]
  },
  {
   "cell_type": "markdown",
   "metadata": {
    "id": "uW5aNOIIbtfu"
   },
   "source": [
    "Keep all columns for aux_commercial"
   ]
  },
  {
   "cell_type": "code",
   "execution_count": 36,
   "metadata": {
    "colab": {
     "base_uri": "https://localhost:8080/"
    },
    "id": "mvCk0NxNbw7Z",
    "outputId": "f3245b50-4610-4f0b-aa07-f8b8f3e641a6"
   },
   "outputs": [
    {
     "name": "stdout",
     "output_type": "stream",
     "text": [
      "Bedok Food Centre                                                                   1\n",
      "Queen Street Blk 270 (Albert Centre)                                                1\n",
      "Holland Drive Blk 44 (Holland Drive Market and Food Centre)                         1\n",
      "Havelock Road Blk 22A/B (Havelock Road Cooked Food Centre)                          1\n",
      "Bukit Merah View Blk 115 (Blk 115 Bukit Merah View Market and Food Centre)          1\n",
      "                                                                                   ..\n",
      "Changi Village Blk 2 and 3                                                          1\n",
      "Ang Mo Kio Ave 10 Blk 527 (Cheng San Market and Cooked Food Centre)                 1\n",
      "Jalan Bukit Merah Blk 112 (Blk 112 Jalan Bukit Merah Market and Food Centre)        1\n",
      "Telok Blangah Crescent Blk 11 (11 Telok Blangah Crescent Market and Food Centre)    1\n",
      "Bendemeer Road Blk 29 (Bendemeer Market and Food Centre)                            1\n",
      "Name: name, Length: 114, dtype: int64\n",
      "1.327120    1\n",
      "1.301120    1\n",
      "1.287910    1\n",
      "1.373318    1\n",
      "1.272660    1\n",
      "           ..\n",
      "1.281568    1\n",
      "1.368300    1\n",
      "1.359079    1\n",
      "1.332100    1\n",
      "1.332060    1\n",
      "Name: lat, Length: 114, dtype: int64\n",
      "103.818398    2\n",
      "103.844459    1\n",
      "103.839729    1\n",
      "103.718460    1\n",
      "103.798019    1\n",
      "             ..\n",
      "103.842590    1\n",
      "103.930687    1\n",
      "103.951364    1\n",
      "103.845863    1\n",
      "103.885841    1\n",
      "Name: lng, Length: 113, dtype: int64\n"
     ]
    }
   ],
   "source": [
    "for col in aux_hawker.columns:\n",
    "  print(aux_hawker[col].value_counts())"
   ]
  },
  {
   "cell_type": "markdown",
   "metadata": {
    "id": "A0wnHGfHcKia"
   },
   "source": [
    "Keep all for aux_hawker"
   ]
  },
  {
   "cell_type": "code",
   "execution_count": 37,
   "metadata": {
    "colab": {
     "base_uri": "https://localhost:8080/"
    },
    "id": "mjYM9OKscN2z",
    "outputId": "aa4e94c8-93d8-4aa7-84e5-2b7a8597d538"
   },
   "outputs": [
    {
     "name": "stdout",
     "output_type": "stream",
     "text": [
      "bukit merah                534\n",
      "queenstown                 454\n",
      "toa payoh                  396\n",
      "ang mo kio                 360\n",
      "yishun                     318\n",
      "bukit batok                288\n",
      "hougang                    288\n",
      "bukit timah                288\n",
      "bedok                      288\n",
      "kallang                    287\n",
      "rochor                     264\n",
      "clementi                   252\n",
      "bukit panjang              252\n",
      "pasir ris                  224\n",
      "woodlands                  216\n",
      "choa chu kang              216\n",
      "jurong west                216\n",
      "serangoon                  216\n",
      "novena                     180\n",
      "sengkang                   180\n",
      "sembawang                  179\n",
      "jurong east                179\n",
      "punggol                    169\n",
      "newton                     165\n",
      "river valley               157\n",
      "geylang                    144\n",
      "tanglin                    144\n",
      "tampines                   143\n",
      "outram                     133\n",
      "bishan                     108\n",
      "marine parade              108\n",
      "downtown core               98\n",
      "changi                      69\n",
      "orchard                     67\n",
      "singapore river             61\n",
      "sungei kadut                45\n",
      "mandai                      36\n",
      "southern islands            32\n",
      "western water catchment     31\n",
      "museum                      31\n",
      "seletar                     20\n",
      "Name: plannin_area, dtype: int64\n",
      "kembangan            36\n",
      "yishun south         36\n",
      "macpherson           36\n",
      "faber                36\n",
      "bukit batok south    36\n",
      "                     ..\n",
      "clarke quay          11\n",
      "somerset             10\n",
      "gali batu            10\n",
      "mackenzie             9\n",
      "loyang west           9\n",
      "Name: subzone, Length: 231, dtype: int64\n",
      "40-44    455\n",
      "35-39    454\n",
      "45-49    453\n",
      "50-54    453\n",
      "30-34    449\n",
      "55-59    445\n",
      "25-29    441\n",
      "60-64    440\n",
      "65-69    437\n",
      "20-24    436\n",
      "0-4      435\n",
      "15-19    432\n",
      "5-9      432\n",
      "10-14    429\n",
      "70-74    423\n",
      "75-79    418\n",
      "85+      402\n",
      "80-84    402\n",
      "Name: age_group, dtype: int64\n",
      "m    3919\n",
      "f    3917\n",
      "Name: sex, dtype: int64\n",
      "10      531\n",
      "20      310\n",
      "30      256\n",
      "40      216\n",
      "50      209\n",
      "       ... \n",
      "3340      1\n",
      "3320      1\n",
      "3280      1\n",
      "3040      1\n",
      "3760      1\n",
      "Name: count, Length: 345, dtype: int64\n"
     ]
    }
   ],
   "source": [
    "for col in aux_demographics.columns:\n",
    "  print(aux_demographics[col].value_counts())"
   ]
  },
  {
   "cell_type": "markdown",
   "metadata": {
    "id": "KVoYk_gbcqWQ"
   },
   "source": [
    "Propose to only keep columns where sub_zone/planning_area match those in train dataset."
   ]
  },
  {
   "cell_type": "code",
   "execution_count": 38,
   "metadata": {
    "colab": {
     "base_uri": "https://localhost:8080/"
    },
    "id": "O5SbR8Eoc_21",
    "outputId": "f38d97ff-b7c9-40da-80f0-1bcde8bcd59e"
   },
   "outputs": [
    {
     "name": "stdout",
     "output_type": "stream",
     "text": [
      "Mayflower Primary School           1\n",
      "Changkat Primary School            1\n",
      "Townsville Primary School          1\n",
      "Fuhua Primary School               1\n",
      "Woodlands Primary School           1\n",
      "                                  ..\n",
      "New Town Primary School            1\n",
      "Bendemeer Primary School           1\n",
      "West View Primary School           1\n",
      "Lakeside Primary School            1\n",
      "CHIJ St. Nicholas Girls' School    1\n",
      "Name: name, Length: 191, dtype: int64\n",
      "1.348763    1\n",
      "1.340714    1\n",
      "1.404702    1\n",
      "1.291284    1\n",
      "1.416531    1\n",
      "           ..\n",
      "1.401981    1\n",
      "1.382366    1\n",
      "1.389513    1\n",
      "1.364484    1\n",
      "1.318752    1\n",
      "Name: lat, Length: 191, dtype: int64\n",
      "103.883251    1\n",
      "103.718737    1\n",
      "103.889537    1\n",
      "103.785779    1\n",
      "103.918274    1\n",
      "             ..\n",
      "103.790327    1\n",
      "103.950874    1\n",
      "103.808217    1\n",
      "103.952275    1\n",
      "103.784216    1\n",
      "Name: lng, Length: 190, dtype: int64\n"
     ]
    }
   ],
   "source": [
    "for col in aux_primaryschools.columns:\n",
    "  print(aux_primaryschools[col].value_counts())"
   ]
  },
  {
   "cell_type": "markdown",
   "metadata": {
    "id": "TBivvaxgdGfR"
   },
   "source": [
    "Keep all cols in prisch. Potential assumption when using number/distance of pri schs to predict hdb price is that all pri schs are equally desireable. Should focus on 1km and 2km radius. https://www.moe.gov.sg/primary/p1-registration/distance"
   ]
  },
  {
   "cell_type": "code",
   "execution_count": 39,
   "metadata": {
    "colab": {
     "base_uri": "https://localhost:8080/"
    },
    "id": "lUYIB8egdGEg",
    "outputId": "b9077b38-745f-4c47-a6bf-dbc4d14876ec"
   },
   "outputs": [
    {
     "name": "stdout",
     "output_type": "stream",
     "text": [
      "Juying Secondary School                    1\n",
      "West Spring Secondary School               1\n",
      "Kuo Chuan Presbyterian Secondary School    1\n",
      "Ngee Ann Secondary School                  1\n",
      "Nan Chiau High School                      1\n",
      "                                          ..\n",
      "Westwood Secondary School                  1\n",
      "Hillgrove Secondary School                 1\n",
      "Unity Secondary School                     1\n",
      "Northbrooks Secondary School               1\n",
      "Pasir Ris Secondary School                 1\n",
      "Name: name, Length: 150, dtype: int64\n",
      "1.325560    1\n",
      "1.371660    1\n",
      "1.374573    1\n",
      "1.308304    1\n",
      "1.352089    1\n",
      "           ..\n",
      "1.439598    1\n",
      "1.340494    1\n",
      "1.436023    1\n",
      "1.441739    1\n",
      "1.324740    1\n",
      "Name: lat, Length: 150, dtype: int64\n",
      "103.780551    1\n",
      "103.775941    1\n",
      "103.882471    1\n",
      "103.746029    1\n",
      "103.755231    1\n",
      "             ..\n",
      "103.793147    1\n",
      "103.720154    1\n",
      "103.802324    1\n",
      "103.902312    1\n",
      "103.837127    1\n",
      "Name: lng, Length: 150, dtype: int64\n"
     ]
    }
   ],
   "source": [
    "for col in aux_secondaryschools.columns:\n",
    "  print(aux_secondaryschools[col].value_counts())"
   ]
  },
  {
   "cell_type": "markdown",
   "metadata": {
    "id": "MteGcsTedLfc"
   },
   "source": [
    "Keep all cols in sec schools. Potential assumption when using number/distance of sec schs to predict hdb price is that all sec schs are equally desireable. Could use PSLE cut-off point but 1. only useful if the buyer has kids 2. buyer has kids who can reach that cut off 3. may have a negative correlation with price if schools cause crowding?"
   ]
  },
  {
   "cell_type": "code",
   "execution_count": 40,
   "metadata": {
    "colab": {
     "base_uri": "https://localhost:8080/"
    },
    "id": "TvESxwHMdNiF",
    "outputId": "1a9f73e2-036b-4939-e55b-7b5a655344d6"
   },
   "outputs": [
    {
     "name": "stdout",
     "output_type": "stream",
     "text": [
      "Roxy Square                    1\n",
      "Hougang Green Shopping Mall    1\n",
      "100 AM                         1\n",
      "Changi Airport                 1\n",
      "People's Park Centre           1\n",
      "                              ..\n",
      "West Mall                      1\n",
      "Tampines 1                     1\n",
      "Boon Lay Shopping Centre       1\n",
      "Singapore Shopping Centre      1\n",
      "Great World City               1\n",
      "Name: name, Length: 174, dtype: int64\n",
      "1.317258    2\n",
      "1.315029    2\n",
      "1.299953    2\n",
      "1.288187    1\n",
      "1.354653    1\n",
      "           ..\n",
      "1.326074    1\n",
      "1.372384    1\n",
      "1.384313    1\n",
      "1.392034    1\n",
      "1.378555    1\n",
      "Name: lat, Length: 171, dtype: int64\n",
      "103.764498    2\n",
      "103.855278    2\n",
      "103.843601    2\n",
      "103.697519    1\n",
      "103.839364    1\n",
      "             ..\n",
      "103.836324    1\n",
      "103.830582    1\n",
      "103.894953    1\n",
      "103.760167    1\n",
      "103.749257    1\n",
      "Name: lng, Length: 171, dtype: int64\n",
      "/wiki/Marina_Bay_Sands              2\n",
      "/wiki/Funan,_Singapore              1\n",
      "/wiki/Bedok_Point                   1\n",
      "/wiki/Ngee_Ann_City                 1\n",
      "/wiki/Changi_City_Point             1\n",
      "                                   ..\n",
      "/wiki/Plaza_Singapura               1\n",
      "/wiki/Leisure_Park_Kallang          1\n",
      "/wiki/Gek_Poh_Shopping_Centre       1\n",
      "/wiki/Holland_Village,_Singapore    1\n",
      "/wiki/Sun_Plaza,_Singapore          1\n",
      "Name: wikipedia_link, Length: 101, dtype: int64\n"
     ]
    }
   ],
   "source": [
    "for col in aux_shoppingmalls.columns:\n",
    "  print(aux_shoppingmalls[col].value_counts())"
   ]
  },
  {
   "cell_type": "markdown",
   "metadata": {
    "id": "X-pVI88bdUV5"
   },
   "source": [
    "Propose to drop the wiki page. Potential assumption when using number/distance of malls to predict hdb price is that all malls are equally desireable."
   ]
  },
  {
   "cell_type": "code",
   "execution_count": 41,
   "metadata": {
    "colab": {
     "base_uri": "https://localhost:8080/"
    },
    "id": "xZ5bKutXd8pq",
    "outputId": "90d77bbb-669c-4929-b5c8-809d2c4586e5"
   },
   "outputs": [
    {
     "name": "stdout",
     "output_type": "stream",
     "text": [
      "Sengkang          2\n",
      "Punggol           2\n",
      "Choa Chu Kang     2\n",
      "Bukit Panjang     2\n",
      "Kaki Bukit        1\n",
      "                 ..\n",
      "Coral Edge        1\n",
      "Chinese Garden    1\n",
      "Sembawang         1\n",
      "Pioneer           1\n",
      "Tampines          1\n",
      "Name: name, Length: 162, dtype: int64\n",
      "CC28            1\n",
      "DT22            1\n",
      "BP11            1\n",
      "NS24/NE6/CC1    1\n",
      "DT28            1\n",
      "               ..\n",
      "DT5             1\n",
      "CC25            1\n",
      "DT11/NS21       1\n",
      "EW28            1\n",
      "NS9/TE2         1\n",
      "Name: codes, Length: 166, dtype: int64\n",
      "1.397170    1\n",
      "1.376142    1\n",
      "1.377750    1\n",
      "1.329988    1\n",
      "1.329956    1\n",
      "           ..\n",
      "1.336607    1\n",
      "1.321038    1\n",
      "1.311834    1\n",
      "1.397317    1\n",
      "1.288385    1\n",
      "Name: lat, Length: 166, dtype: int64\n",
      "103.765299    1\n",
      "103.862859    1\n",
      "103.744553    1\n",
      "103.879759    1\n",
      "103.787208    1\n",
      "             ..\n",
      "103.839075    1\n",
      "103.827019    1\n",
      "103.793851    1\n",
      "103.892380    1\n",
      "103.888195    1\n",
      "Name: lng, Length: 166, dtype: int64\n",
      "2017.0    17\n",
      "1987.0    14\n",
      "2003.0    14\n",
      "1989.0    13\n",
      "1988.0    11\n",
      "2011.0    10\n",
      "2015.0    10\n",
      "2010.0     9\n",
      "1996.0     6\n",
      "2009.0     5\n",
      "1990.0     5\n",
      "2020.0     2\n",
      "2013.0     2\n",
      "2001.0     2\n",
      "2002.0     1\n",
      "2019.0     1\n",
      "2012.0     1\n",
      "2014.0     1\n",
      "2006.0     1\n",
      "2031.0     1\n",
      "Name: opening_year, dtype: int64\n",
      "mrt      126\n",
      "other     40\n",
      "Name: type, dtype: int64\n"
     ]
    }
   ],
   "source": [
    "for col in aux_trainstations.columns:\n",
    "  print(aux_trainstations[col].value_counts())"
   ]
  },
  {
   "cell_type": "code",
   "execution_count": 44,
   "metadata": {
    "colab": {
     "base_uri": "https://localhost:8080/",
     "height": 204
    },
    "id": "SD3YZ8xWeEuY",
    "outputId": "97bfae11-4cae-4c73-da3c-cb12f52c42da"
   },
   "outputs": [
    {
     "data": {
      "text/html": [
       "<div>\n",
       "<style scoped>\n",
       "    .dataframe tbody tr th:only-of-type {\n",
       "        vertical-align: middle;\n",
       "    }\n",
       "\n",
       "    .dataframe tbody tr th {\n",
       "        vertical-align: top;\n",
       "    }\n",
       "\n",
       "    .dataframe thead th {\n",
       "        text-align: right;\n",
       "    }\n",
       "</style>\n",
       "<table border=\"1\" class=\"dataframe\">\n",
       "  <thead>\n",
       "    <tr style=\"text-align: right;\">\n",
       "      <th></th>\n",
       "      <th>name</th>\n",
       "      <th>codes</th>\n",
       "      <th>lat</th>\n",
       "      <th>lng</th>\n",
       "      <th>opening_year</th>\n",
       "      <th>type</th>\n",
       "    </tr>\n",
       "  </thead>\n",
       "  <tbody>\n",
       "    <tr>\n",
       "      <th>13</th>\n",
       "      <td>Pasir Ris</td>\n",
       "      <td>EW1</td>\n",
       "      <td>1.372983</td>\n",
       "      <td>103.949268</td>\n",
       "      <td>1989.0</td>\n",
       "      <td>mrt</td>\n",
       "    </tr>\n",
       "    <tr>\n",
       "      <th>53</th>\n",
       "      <td>Thanggam</td>\n",
       "      <td>SW4</td>\n",
       "      <td>1.397317</td>\n",
       "      <td>103.875635</td>\n",
       "      <td>NaN</td>\n",
       "      <td>other</td>\n",
       "    </tr>\n",
       "    <tr>\n",
       "      <th>66</th>\n",
       "      <td>Meridian</td>\n",
       "      <td>PE2</td>\n",
       "      <td>1.396911</td>\n",
       "      <td>103.908950</td>\n",
       "      <td>NaN</td>\n",
       "      <td>other</td>\n",
       "    </tr>\n",
       "    <tr>\n",
       "      <th>157</th>\n",
       "      <td>Changi Airport</td>\n",
       "      <td>CG2</td>\n",
       "      <td>1.357314</td>\n",
       "      <td>103.988364</td>\n",
       "      <td>2002.0</td>\n",
       "      <td>mrt</td>\n",
       "    </tr>\n",
       "    <tr>\n",
       "      <th>163</th>\n",
       "      <td>Telok Ayer</td>\n",
       "      <td>DT18</td>\n",
       "      <td>1.282289</td>\n",
       "      <td>103.848302</td>\n",
       "      <td>2013.0</td>\n",
       "      <td>mrt</td>\n",
       "    </tr>\n",
       "  </tbody>\n",
       "</table>\n",
       "</div>"
      ],
      "text/plain": [
       "               name codes       lat         lng  opening_year   type\n",
       "13        Pasir Ris   EW1  1.372983  103.949268        1989.0    mrt\n",
       "53         Thanggam   SW4  1.397317  103.875635           NaN  other\n",
       "66         Meridian   PE2  1.396911  103.908950           NaN  other\n",
       "157  Changi Airport   CG2  1.357314  103.988364        2002.0    mrt\n",
       "163      Telok Ayer  DT18  1.282289  103.848302        2013.0    mrt"
      ]
     },
     "execution_count": 44,
     "metadata": {
      "tags": []
     },
     "output_type": "execute_result"
    }
   ],
   "source": [
    "aux_trainstations.sample(5)"
   ]
  },
  {
   "cell_type": "markdown",
   "metadata": {
    "id": "Fxd4ucPAeM5M"
   },
   "source": [
    "Clarifications: does type=other mean LRT? IF opening_year = NaN means yet to be opened?\n",
    "\n",
    "Proposal to split a mrt line intersection e.g. Dhoby Ghaut, Paya Lebar, City Hall, Jurong East, Serangoon into multiple stations (and assign them the same lat lng) since they access multiple lines. (Unless it's a LRT line?)\n",
    "\n",
    "Potentially assumes any train line is as desireable as another."
   ]
  }
 ],
 "metadata": {
  "colab": {
   "collapsed_sections": [],
   "name": "NUS DAO2702 Group Project Y2S2 (2021).ipynb",
   "provenance": []
  },
  "kernelspec": {
   "display_name": "Python 3",
   "language": "python",
   "name": "python3"
  },
  "language_info": {
   "codemirror_mode": {
    "name": "ipython",
    "version": 3
   },
   "file_extension": ".py",
   "mimetype": "text/x-python",
   "name": "python",
   "nbconvert_exporter": "python",
   "pygments_lexer": "ipython3",
   "version": "3.8.5"
  }
 },
 "nbformat": 4,
 "nbformat_minor": 1
}
