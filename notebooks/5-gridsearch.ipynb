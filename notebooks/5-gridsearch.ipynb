{
 "cells": [
  {
   "cell_type": "code",
   "execution_count": 1,
   "metadata": {},
   "outputs": [],
   "source": [
    "import numpy as np\n",
    "import pandas as pd\n",
    "import matplotlib.pyplot as plt\n",
    "\n",
    "from joblib import dump, load\n",
    "\n",
    "from sklearn.preprocessing import StandardScaler\n",
    "from sklearn.model_selection import GridSearchCV, train_test_split\n",
    "\n",
    "from sklearn.ensemble import RandomForestRegressor, GradientBoostingRegressor\n",
    "\n",
    "from sklearn.metrics import mean_squared_error"
   ]
  },
  {
   "cell_type": "markdown",
   "metadata": {},
   "source": [
    "For comparing across ML models (i.e. RF, GB, LR), sample 20% and do 10-fold CV. Use default parameters for this.\n",
    "\n",
    "For the top 2 models, use 60% of data to perform hyperparameter search.\n",
    "\n",
    "For each model, we want the best set of parameters.\n",
    "\n",
    "Output: Optimal parameters, as well as loss for each combination of parameters. Output: 10 different loss values/RMSE per model (boxplot)"
   ]
  },
  {
   "cell_type": "code",
   "execution_count": 5,
   "metadata": {},
   "outputs": [
    {
     "name": "stdout",
     "output_type": "stream",
     "text": [
      "(431732, 88)\n"
     ]
    },
    {
     "data": {
      "text/html": [
       "<div>\n",
       "<style scoped>\n",
       "    .dataframe tbody tr th:only-of-type {\n",
       "        vertical-align: middle;\n",
       "    }\n",
       "\n",
       "    .dataframe tbody tr th {\n",
       "        vertical-align: top;\n",
       "    }\n",
       "\n",
       "    .dataframe thead th {\n",
       "        text-align: right;\n",
       "    }\n",
       "</style>\n",
       "<table border=\"1\" class=\"dataframe\">\n",
       "  <thead>\n",
       "    <tr style=\"text-align: right;\">\n",
       "      <th></th>\n",
       "      <th>floor_area_sqm</th>\n",
       "      <th>resale_price</th>\n",
       "      <th>lease_duration</th>\n",
       "      <th>storey</th>\n",
       "      <th>flat_model_adjoined flat</th>\n",
       "      <th>flat_model_apartment</th>\n",
       "      <th>flat_model_dbss</th>\n",
       "      <th>flat_model_improved</th>\n",
       "      <th>flat_model_improved maisonette</th>\n",
       "      <th>flat_model_maisonette</th>\n",
       "      <th>...</th>\n",
       "      <th>mall_nearest_dist</th>\n",
       "      <th>hawker_nearest_dist</th>\n",
       "      <th>comm_nearest_dist</th>\n",
       "      <th>station_nearest_dist</th>\n",
       "      <th>nbr_ssch_1k</th>\n",
       "      <th>nbr_psch_1k</th>\n",
       "      <th>nbr_mall_1k</th>\n",
       "      <th>nbr_hawker_1k</th>\n",
       "      <th>nbr_comm_1k</th>\n",
       "      <th>nbr_station_1k</th>\n",
       "    </tr>\n",
       "  </thead>\n",
       "  <tbody>\n",
       "    <tr>\n",
       "      <th>0</th>\n",
       "      <td>118.0</td>\n",
       "      <td>209700.0</td>\n",
       "      <td>12</td>\n",
       "      <td>2.0</td>\n",
       "      <td>0</td>\n",
       "      <td>0</td>\n",
       "      <td>0</td>\n",
       "      <td>0</td>\n",
       "      <td>0</td>\n",
       "      <td>0</td>\n",
       "      <td>...</td>\n",
       "      <td>1.032567</td>\n",
       "      <td>0.944966</td>\n",
       "      <td>2.312122</td>\n",
       "      <td>1.136808</td>\n",
       "      <td>5</td>\n",
       "      <td>6</td>\n",
       "      <td>1</td>\n",
       "      <td>2</td>\n",
       "      <td>1</td>\n",
       "      <td>1</td>\n",
       "    </tr>\n",
       "    <tr>\n",
       "      <th>1</th>\n",
       "      <td>110.0</td>\n",
       "      <td>402300.0</td>\n",
       "      <td>11</td>\n",
       "      <td>11.0</td>\n",
       "      <td>0</td>\n",
       "      <td>0</td>\n",
       "      <td>0</td>\n",
       "      <td>1</td>\n",
       "      <td>0</td>\n",
       "      <td>0</td>\n",
       "      <td>...</td>\n",
       "      <td>0.805534</td>\n",
       "      <td>3.780019</td>\n",
       "      <td>1.461516</td>\n",
       "      <td>0.823036</td>\n",
       "      <td>6</td>\n",
       "      <td>8</td>\n",
       "      <td>4</td>\n",
       "      <td>0</td>\n",
       "      <td>0</td>\n",
       "      <td>2</td>\n",
       "    </tr>\n",
       "    <tr>\n",
       "      <th>2</th>\n",
       "      <td>112.0</td>\n",
       "      <td>351000.0</td>\n",
       "      <td>16</td>\n",
       "      <td>2.0</td>\n",
       "      <td>0</td>\n",
       "      <td>0</td>\n",
       "      <td>0</td>\n",
       "      <td>0</td>\n",
       "      <td>0</td>\n",
       "      <td>0</td>\n",
       "      <td>...</td>\n",
       "      <td>0.452272</td>\n",
       "      <td>1.802808</td>\n",
       "      <td>1.444013</td>\n",
       "      <td>2.229299</td>\n",
       "      <td>1</td>\n",
       "      <td>2</td>\n",
       "      <td>2</td>\n",
       "      <td>0</td>\n",
       "      <td>0</td>\n",
       "      <td>0</td>\n",
       "    </tr>\n",
       "    <tr>\n",
       "      <th>3</th>\n",
       "      <td>67.0</td>\n",
       "      <td>151200.0</td>\n",
       "      <td>20</td>\n",
       "      <td>8.0</td>\n",
       "      <td>0</td>\n",
       "      <td>0</td>\n",
       "      <td>0</td>\n",
       "      <td>0</td>\n",
       "      <td>0</td>\n",
       "      <td>0</td>\n",
       "      <td>...</td>\n",
       "      <td>0.456213</td>\n",
       "      <td>0.617904</td>\n",
       "      <td>2.385591</td>\n",
       "      <td>0.423055</td>\n",
       "      <td>2</td>\n",
       "      <td>2</td>\n",
       "      <td>3</td>\n",
       "      <td>2</td>\n",
       "      <td>0</td>\n",
       "      <td>1</td>\n",
       "    </tr>\n",
       "    <tr>\n",
       "      <th>4</th>\n",
       "      <td>73.0</td>\n",
       "      <td>318600.0</td>\n",
       "      <td>28</td>\n",
       "      <td>8.0</td>\n",
       "      <td>0</td>\n",
       "      <td>0</td>\n",
       "      <td>0</td>\n",
       "      <td>0</td>\n",
       "      <td>0</td>\n",
       "      <td>0</td>\n",
       "      <td>...</td>\n",
       "      <td>0.763692</td>\n",
       "      <td>0.761443</td>\n",
       "      <td>1.805955</td>\n",
       "      <td>0.773734</td>\n",
       "      <td>2</td>\n",
       "      <td>2</td>\n",
       "      <td>1</td>\n",
       "      <td>1</td>\n",
       "      <td>0</td>\n",
       "      <td>1</td>\n",
       "    </tr>\n",
       "  </tbody>\n",
       "</table>\n",
       "<p>5 rows × 87 columns</p>\n",
       "</div>"
      ],
      "text/plain": [
       "   floor_area_sqm  resale_price  lease_duration  storey  \\\n",
       "0           118.0      209700.0              12     2.0   \n",
       "1           110.0      402300.0              11    11.0   \n",
       "2           112.0      351000.0              16     2.0   \n",
       "3            67.0      151200.0              20     8.0   \n",
       "4            73.0      318600.0              28     8.0   \n",
       "\n",
       "   flat_model_adjoined flat  flat_model_apartment  flat_model_dbss  \\\n",
       "0                         0                     0                0   \n",
       "1                         0                     0                0   \n",
       "2                         0                     0                0   \n",
       "3                         0                     0                0   \n",
       "4                         0                     0                0   \n",
       "\n",
       "   flat_model_improved  flat_model_improved maisonette  flat_model_maisonette  \\\n",
       "0                    0                               0                      0   \n",
       "1                    1                               0                      0   \n",
       "2                    0                               0                      0   \n",
       "3                    0                               0                      0   \n",
       "4                    0                               0                      0   \n",
       "\n",
       "   ...  mall_nearest_dist  hawker_nearest_dist  comm_nearest_dist  \\\n",
       "0  ...           1.032567             0.944966           2.312122   \n",
       "1  ...           0.805534             3.780019           1.461516   \n",
       "2  ...           0.452272             1.802808           1.444013   \n",
       "3  ...           0.456213             0.617904           2.385591   \n",
       "4  ...           0.763692             0.761443           1.805955   \n",
       "\n",
       "   station_nearest_dist  nbr_ssch_1k  nbr_psch_1k  nbr_mall_1k  nbr_hawker_1k  \\\n",
       "0              1.136808            5            6            1              2   \n",
       "1              0.823036            6            8            4              0   \n",
       "2              2.229299            1            2            2              0   \n",
       "3              0.423055            2            2            3              2   \n",
       "4              0.773734            2            2            1              1   \n",
       "\n",
       "   nbr_comm_1k  nbr_station_1k  \n",
       "0            1               1  \n",
       "1            0               2  \n",
       "2            0               0  \n",
       "3            0               1  \n",
       "4            0               1  \n",
       "\n",
       "[5 rows x 87 columns]"
      ]
     },
     "execution_count": 5,
     "metadata": {},
     "output_type": "execute_result"
    }
   ],
   "source": [
    "train = pd.read_csv(\"../data/processed/train.csv\")\n",
    "print(train.shape)\n",
    "train.drop(columns=['Unnamed: 0'], inplace=True)\n",
    "train.head()"
   ]
  },
  {
   "cell_type": "code",
   "execution_count": 6,
   "metadata": {},
   "outputs": [
    {
     "name": "stdout",
     "output_type": "stream",
     "text": [
      "(107934, 87)\n"
     ]
    },
    {
     "data": {
      "text/html": [
       "<div>\n",
       "<style scoped>\n",
       "    .dataframe tbody tr th:only-of-type {\n",
       "        vertical-align: middle;\n",
       "    }\n",
       "\n",
       "    .dataframe tbody tr th {\n",
       "        vertical-align: top;\n",
       "    }\n",
       "\n",
       "    .dataframe thead th {\n",
       "        text-align: right;\n",
       "    }\n",
       "</style>\n",
       "<table border=\"1\" class=\"dataframe\">\n",
       "  <thead>\n",
       "    <tr style=\"text-align: right;\">\n",
       "      <th></th>\n",
       "      <th>floor_area_sqm</th>\n",
       "      <th>lease_duration</th>\n",
       "      <th>storey</th>\n",
       "      <th>flat_model_adjoined flat</th>\n",
       "      <th>flat_model_apartment</th>\n",
       "      <th>flat_model_dbss</th>\n",
       "      <th>flat_model_improved</th>\n",
       "      <th>flat_model_improved maisonette</th>\n",
       "      <th>flat_model_maisonette</th>\n",
       "      <th>flat_model_model a</th>\n",
       "      <th>...</th>\n",
       "      <th>mall_nearest_dist</th>\n",
       "      <th>hawker_nearest_dist</th>\n",
       "      <th>comm_nearest_dist</th>\n",
       "      <th>station_nearest_dist</th>\n",
       "      <th>nbr_ssch_1k</th>\n",
       "      <th>nbr_psch_1k</th>\n",
       "      <th>nbr_mall_1k</th>\n",
       "      <th>nbr_hawker_1k</th>\n",
       "      <th>nbr_comm_1k</th>\n",
       "      <th>nbr_station_1k</th>\n",
       "    </tr>\n",
       "  </thead>\n",
       "  <tbody>\n",
       "    <tr>\n",
       "      <th>0</th>\n",
       "      <td>94.0</td>\n",
       "      <td>15</td>\n",
       "      <td>5.0</td>\n",
       "      <td>0</td>\n",
       "      <td>0</td>\n",
       "      <td>0</td>\n",
       "      <td>0</td>\n",
       "      <td>0</td>\n",
       "      <td>0</td>\n",
       "      <td>0</td>\n",
       "      <td>...</td>\n",
       "      <td>0.693506</td>\n",
       "      <td>0.792309</td>\n",
       "      <td>1.749017</td>\n",
       "      <td>0.667130</td>\n",
       "      <td>4</td>\n",
       "      <td>3</td>\n",
       "      <td>2</td>\n",
       "      <td>2</td>\n",
       "      <td>1</td>\n",
       "      <td>2</td>\n",
       "    </tr>\n",
       "    <tr>\n",
       "      <th>1</th>\n",
       "      <td>122.0</td>\n",
       "      <td>4</td>\n",
       "      <td>5.0</td>\n",
       "      <td>0</td>\n",
       "      <td>0</td>\n",
       "      <td>0</td>\n",
       "      <td>1</td>\n",
       "      <td>0</td>\n",
       "      <td>0</td>\n",
       "      <td>0</td>\n",
       "      <td>...</td>\n",
       "      <td>1.932765</td>\n",
       "      <td>2.069274</td>\n",
       "      <td>1.818631</td>\n",
       "      <td>1.832348</td>\n",
       "      <td>3</td>\n",
       "      <td>2</td>\n",
       "      <td>0</td>\n",
       "      <td>0</td>\n",
       "      <td>0</td>\n",
       "      <td>0</td>\n",
       "    </tr>\n",
       "    <tr>\n",
       "      <th>2</th>\n",
       "      <td>67.0</td>\n",
       "      <td>20</td>\n",
       "      <td>2.0</td>\n",
       "      <td>0</td>\n",
       "      <td>0</td>\n",
       "      <td>0</td>\n",
       "      <td>0</td>\n",
       "      <td>0</td>\n",
       "      <td>0</td>\n",
       "      <td>0</td>\n",
       "      <td>...</td>\n",
       "      <td>0.524283</td>\n",
       "      <td>0.787872</td>\n",
       "      <td>0.928551</td>\n",
       "      <td>0.517931</td>\n",
       "      <td>1</td>\n",
       "      <td>2</td>\n",
       "      <td>4</td>\n",
       "      <td>1</td>\n",
       "      <td>1</td>\n",
       "      <td>1</td>\n",
       "    </tr>\n",
       "    <tr>\n",
       "      <th>3</th>\n",
       "      <td>82.0</td>\n",
       "      <td>34</td>\n",
       "      <td>5.0</td>\n",
       "      <td>0</td>\n",
       "      <td>0</td>\n",
       "      <td>0</td>\n",
       "      <td>0</td>\n",
       "      <td>0</td>\n",
       "      <td>0</td>\n",
       "      <td>0</td>\n",
       "      <td>...</td>\n",
       "      <td>0.828608</td>\n",
       "      <td>0.957000</td>\n",
       "      <td>2.026039</td>\n",
       "      <td>0.546579</td>\n",
       "      <td>3</td>\n",
       "      <td>2</td>\n",
       "      <td>3</td>\n",
       "      <td>3</td>\n",
       "      <td>0</td>\n",
       "      <td>1</td>\n",
       "    </tr>\n",
       "    <tr>\n",
       "      <th>4</th>\n",
       "      <td>117.0</td>\n",
       "      <td>26</td>\n",
       "      <td>2.0</td>\n",
       "      <td>0</td>\n",
       "      <td>0</td>\n",
       "      <td>0</td>\n",
       "      <td>0</td>\n",
       "      <td>0</td>\n",
       "      <td>0</td>\n",
       "      <td>0</td>\n",
       "      <td>...</td>\n",
       "      <td>0.604285</td>\n",
       "      <td>0.112928</td>\n",
       "      <td>1.826417</td>\n",
       "      <td>0.515554</td>\n",
       "      <td>5</td>\n",
       "      <td>2</td>\n",
       "      <td>3</td>\n",
       "      <td>2</td>\n",
       "      <td>0</td>\n",
       "      <td>1</td>\n",
       "    </tr>\n",
       "  </tbody>\n",
       "</table>\n",
       "<p>5 rows × 86 columns</p>\n",
       "</div>"
      ],
      "text/plain": [
       "   floor_area_sqm  lease_duration  storey  flat_model_adjoined flat  \\\n",
       "0            94.0              15     5.0                         0   \n",
       "1           122.0               4     5.0                         0   \n",
       "2            67.0              20     2.0                         0   \n",
       "3            82.0              34     5.0                         0   \n",
       "4           117.0              26     2.0                         0   \n",
       "\n",
       "   flat_model_apartment  flat_model_dbss  flat_model_improved  \\\n",
       "0                     0                0                    0   \n",
       "1                     0                0                    1   \n",
       "2                     0                0                    0   \n",
       "3                     0                0                    0   \n",
       "4                     0                0                    0   \n",
       "\n",
       "   flat_model_improved maisonette  flat_model_maisonette  flat_model_model a  \\\n",
       "0                               0                      0                   0   \n",
       "1                               0                      0                   0   \n",
       "2                               0                      0                   0   \n",
       "3                               0                      0                   0   \n",
       "4                               0                      0                   0   \n",
       "\n",
       "   ...  mall_nearest_dist  hawker_nearest_dist  comm_nearest_dist  \\\n",
       "0  ...           0.693506             0.792309           1.749017   \n",
       "1  ...           1.932765             2.069274           1.818631   \n",
       "2  ...           0.524283             0.787872           0.928551   \n",
       "3  ...           0.828608             0.957000           2.026039   \n",
       "4  ...           0.604285             0.112928           1.826417   \n",
       "\n",
       "   station_nearest_dist  nbr_ssch_1k  nbr_psch_1k  nbr_mall_1k  nbr_hawker_1k  \\\n",
       "0              0.667130            4            3            2              2   \n",
       "1              1.832348            3            2            0              0   \n",
       "2              0.517931            1            2            4              1   \n",
       "3              0.546579            3            2            3              3   \n",
       "4              0.515554            5            2            3              2   \n",
       "\n",
       "   nbr_comm_1k  nbr_station_1k  \n",
       "0            1               2  \n",
       "1            0               0  \n",
       "2            1               1  \n",
       "3            0               1  \n",
       "4            0               1  \n",
       "\n",
       "[5 rows x 86 columns]"
      ]
     },
     "execution_count": 6,
     "metadata": {},
     "output_type": "execute_result"
    }
   ],
   "source": [
    "test = pd.read_csv(\"../data/processed/test.csv\")\n",
    "print(test.shape)\n",
    "test.drop(columns=['Unnamed: 0'], inplace=True)\n",
    "test.head()"
   ]
  },
  {
   "cell_type": "code",
   "execution_count": 7,
   "metadata": {},
   "outputs": [
    {
     "name": "stdout",
     "output_type": "stream",
     "text": [
      "(431732, 86)\n",
      "(431732,)\n"
     ]
    }
   ],
   "source": [
    "y = train.resale_price\n",
    "X = train.drop(columns=['resale_price'])\n",
    "predictors = X.columns\n",
    "print(X.shape)\n",
    "print(y.shape)"
   ]
  },
  {
   "cell_type": "code",
   "execution_count": 8,
   "metadata": {},
   "outputs": [
    {
     "name": "stdout",
     "output_type": "stream",
     "text": [
      "(345385, 86)\n",
      "(345385,)\n",
      "(86347, 86)\n",
      "(86347,)\n"
     ]
    }
   ],
   "source": [
    "seed = 42\n",
    "X_train, X_test, y_train, y_test = train_test_split(X, y, test_size=0.2, random_state=seed)\n",
    "print(X_train.shape)\n",
    "print(y_train.shape)\n",
    "\n",
    "print(X_test.shape)\n",
    "print(y_test.shape)"
   ]
  },
  {
   "cell_type": "code",
   "execution_count": 9,
   "metadata": {},
   "outputs": [
    {
     "name": "stdout",
     "output_type": "stream",
     "text": [
      "(231407, 86)\n",
      "(231407,)\n",
      "(86347, 86)\n",
      "(86347,)\n"
     ]
    }
   ],
   "source": [
    "seed = 42\n",
    "X_train, _, y_train, _ = train_test_split(X_train, y_train, test_size=0.33, random_state=seed)\n",
    "print(X_train.shape) # about 240k rows\n",
    "print(y_train.shape)\n",
    "\n",
    "print(X_test.shape)\n",
    "print(y_test.shape)"
   ]
  },
  {
   "cell_type": "code",
   "execution_count": 114,
   "metadata": {},
   "outputs": [],
   "source": [
    "sc = StandardScaler()\n",
    "X_train = sc.fit_transform(X_train)\n",
    "X_test = sc.transform(X_test)"
   ]
  },
  {
   "cell_type": "code",
   "execution_count": null,
   "metadata": {},
   "outputs": [
    {
     "name": "stdout",
     "output_type": "stream",
     "text": [
      "{'bootstrap': True, 'ccp_alpha': 0.0, 'criterion': 'mse', 'max_depth': None, 'max_features': 'auto', 'max_leaf_nodes': None, 'max_samples': None, 'min_impurity_decrease': 0.0, 'min_impurity_split': None, 'min_samples_leaf': 1, 'min_samples_split': 2, 'min_weight_fraction_leaf': 0.0, 'n_estimators': 100, 'n_jobs': None, 'oob_score': False, 'random_state': None, 'verbose': 0, 'warm_start': False}\n",
      "Fitting 5 folds for each of 16 candidates, totalling 80 fits\n"
     ]
    },
    {
     "name": "stderr",
     "output_type": "stream",
     "text": [
      "[Parallel(n_jobs=-1)]: Using backend LokyBackend with 4 concurrent workers.\n",
      "[Parallel(n_jobs=-1)]: Done  24 tasks      | elapsed:  9.5min\n"
     ]
    }
   ],
   "source": [
    "%%time\n",
    "\n",
    "grid = {\n",
    "    'max_depth' : [1, 10, 100, 250, None],\n",
    "    'n_estimators' : [1, 10, 100, 250]\n",
    "}\n",
    "\n",
    "est=RandomForestRegressor(random_state=seed)\n",
    "print(est.get_params())\n",
    "\n",
    "model = GridSearchCV(estimator=est,\n",
    "                   param_grid=grid, scoring='neg_root_mean_squared_error',\n",
    "                    verbose=3, n_jobs=-1)\n",
    "model.fit(X_train, y_train)\n",
    "\n",
    "# Store the parameters of the best model\n",
    "best_params = model.best_params_\n",
    "\n",
    "# Predict class labels of test data on the model with the best found parameters\n",
    "y_pred = model.predict(X_test)"
   ]
  },
  {
   "cell_type": "code",
   "execution_count": null,
   "metadata": {},
   "outputs": [],
   "source": [
    "print(best_params)\n",
    "print('Root Mean Squared Error RF:', np.sqrt(mean_squared_error(y_test, y_pred)))\n",
    "dump(model.best_estimator_, 'rf.joblib')"
   ]
  },
  {
   "cell_type": "markdown",
   "metadata": {},
   "source": [
    "### GBM CV\n",
    "Follow https://www.analyticsvidhya.com/blog/2016/02/complete-guide-parameter-tuning-gradient-boosting-gbm-python/\n",
    "\n",
    "Choose a relatively high learning rate. Generally the default value of 0.1 works but somewhere between 0.05 to 0.2 should work for different problems\n",
    "\n",
    "Determine the optimum number of trees for this learning rate. This should range around 40-70. Remember to choose a value on which your system can work fairly fast. This is because it will be used for testing various scenarios and determining the tree parameters.\n",
    "\n",
    "Tune tree-specific parameters for decided learning rate and number of trees. Note that we can choose different parameters to define a tree and I’ll take up an example here.\n",
    "\n",
    "Lower the learning rate and increase the estimators proportionally to get more robust models."
   ]
  },
  {
   "cell_type": "code",
   "execution_count": 58,
   "metadata": {
    "scrolled": true
   },
   "outputs": [
    {
     "name": "stdout",
     "output_type": "stream",
     "text": [
      "{'alpha': 0.9, 'ccp_alpha': 0.0, 'criterion': 'friedman_mse', 'init': None, 'learning_rate': 0.1, 'loss': 'ls', 'max_depth': 3, 'max_features': None, 'max_leaf_nodes': None, 'min_impurity_decrease': 0.0, 'min_impurity_split': None, 'min_samples_leaf': 1, 'min_samples_split': 2, 'min_weight_fraction_leaf': 0.0, 'n_estimators': 50, 'n_iter_no_change': None, 'random_state': 42, 'subsample': 1.0, 'tol': 0.0001, 'validation_fraction': 0.1, 'verbose': 0, 'warm_start': False}\n",
      "Fitting 5 folds for each of 25 candidates, totalling 125 fits\n",
      "CPU times: user 3min 13s, sys: 1.36 s, total: 3min 14s\n",
      "Wall time: 2h 50min 28s\n"
     ]
    }
   ],
   "source": [
    "%%time\n",
    "\n",
    "grid = {\n",
    "    'min_samples_split': [2, 4, 8, 16, 32],\n",
    "    'max_depth': [1, 5, 10, 25, 50],\n",
    "}\n",
    "\n",
    "est=GradientBoostingRegressor(n_estimators = 50, random_state=seed)\n",
    "print(est.get_params())\n",
    "\n",
    "model2 = GridSearchCV(estimator=est,\n",
    "                   param_grid=grid, scoring='neg_root_mean_squared_error',\n",
    "                    verbose=3, n_jobs=-1)\n",
    "model2.fit(X_train, y_train)\n",
    "\n",
    "# Store the parameters of t3he best model\n",
    "best_params2 = model2.best_params_\n",
    "\n",
    "# Predict class labels of test data on the model with the best found parameters\n",
    "y_pred2 = model2.predict(X_test)"
   ]
  },
  {
   "cell_type": "code",
   "execution_count": 59,
   "metadata": {
    "scrolled": false
   },
   "outputs": [
    {
     "data": {
      "text/plain": [
       "GradientBoostingRegressor(max_depth=25, min_samples_split=32, n_estimators=50,\n",
       "                          random_state=42)"
      ]
     },
     "execution_count": 59,
     "metadata": {},
     "output_type": "execute_result"
    }
   ],
   "source": [
    "model2.best_estimator_"
   ]
  },
  {
   "cell_type": "code",
   "execution_count": 62,
   "metadata": {},
   "outputs": [
    {
     "name": "stdout",
     "output_type": "stream",
     "text": [
      "{'max_depth': 25, 'min_samples_split': 32}\n",
      "Root Mean Squared Error GB: 22054.93448333611\n"
     ]
    }
   ],
   "source": [
    "print(best_params2)\n",
    "print('Root Mean Squared Error GB:', np.sqrt(mean_squared_error(y_test, y_pred2)))"
   ]
  },
  {
   "cell_type": "code",
   "execution_count": 63,
   "metadata": {},
   "outputs": [
    {
     "name": "stdout",
     "output_type": "stream",
     "text": [
      "{'alpha': 0.9, 'ccp_alpha': 0.0, 'criterion': 'friedman_mse', 'init': None, 'learning_rate': 0.1, 'loss': 'ls', 'max_depth': 25, 'max_features': None, 'max_leaf_nodes': None, 'min_impurity_decrease': 0.0, 'min_impurity_split': None, 'min_samples_leaf': 1, 'min_samples_split': 32, 'min_weight_fraction_leaf': 0.0, 'n_estimators': 100, 'n_iter_no_change': None, 'random_state': 42, 'subsample': 1.0, 'tol': 0.0001, 'validation_fraction': 0.1, 'verbose': 0, 'warm_start': False}\n",
      "Fitting 5 folds for each of 25 candidates, totalling 125 fits\n",
      "CPU times: user 13min 40s, sys: 3.16 s, total: 13min 43s\n",
      "Wall time: 7h 43min 3s\n"
     ]
    }
   ],
   "source": [
    "%%time\n",
    "\n",
    "grid = {\n",
    "    'learning_rate': [0.01, 0.001, 0.1, 0.05, 0.005],\n",
    "    'n_estimators': [10, 25, 50, 100, 200],\n",
    "}\n",
    "\n",
    "est=GradientBoostingRegressor(max_depth=25, min_samples_split=32, random_state=seed)\n",
    "print(est.get_params())\n",
    "\n",
    "model2_2 = GridSearchCV(estimator=est,\n",
    "                   param_grid=grid, scoring='neg_root_mean_squared_error',\n",
    "                    verbose=3, n_jobs=-1)\n",
    "model2_2.fit(X_train, y_train)\n",
    "\n",
    "# Store the parameters of t3he best model\n",
    "best_params2_2 = model2_2.best_params_\n",
    "\n",
    "# Predict class labels of test data on the model with the best found parameters\n",
    "y_pred2_2 = model2_2.predict(X_test)"
   ]
  },
  {
   "cell_type": "code",
   "execution_count": 64,
   "metadata": {
    "scrolled": true
   },
   "outputs": [
    {
     "name": "stdout",
     "output_type": "stream",
     "text": [
      "{'learning_rate': 0.05, 'n_estimators': 200}\n",
      "Root Mean Squared Error GB: 21703.547344987855\n"
     ]
    }
   ],
   "source": [
    "print(best_params2_2)\n",
    "print('Root Mean Squared Error GB:', np.sqrt(mean_squared_error(y_test, y_pred2_2)))\n",
    "# dump(model2.best_estimator_, 'gbm.joblib')"
   ]
  }
 ],
 "metadata": {
  "kernelspec": {
   "display_name": "Python 3",
   "language": "python",
   "name": "python3"
  },
  "language_info": {
   "codemirror_mode": {
    "name": "ipython",
    "version": 3
   },
   "file_extension": ".py",
   "mimetype": "text/x-python",
   "name": "python",
   "nbconvert_exporter": "python",
   "pygments_lexer": "ipython3",
   "version": "3.8.5"
  }
 },
 "nbformat": 4,
 "nbformat_minor": 4
}
